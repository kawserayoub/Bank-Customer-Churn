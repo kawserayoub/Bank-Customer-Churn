{
  "cells": [
    {
      "cell_type": "markdown",
      "metadata": {
        "id": "3uZB4yth9quN"
      },
      "source": [
        "# Bank Customer Churn - Machine Learning\n",
        "\n"
      ]
    },
    {
      "cell_type": "code",
      "execution_count": 1,
      "metadata": {
        "id": "VIcPQHsz9agx"
      },
      "outputs": [],
      "source": [
        "import pandas as pd\n",
        "import numpy as np\n",
        "import time\n",
        "import xgboost as xgb\n",
        "\n",
        "from imblearn.over_sampling import SMOTE\n",
        "from sklearn.linear_model import LogisticRegression\n",
        "from xgboost import XGBClassifier\n",
        "from sklearn.svm import SVC\n",
        "from sklearn.pipeline import Pipeline\n",
        "from sklearn.preprocessing import StandardScaler\n",
        "from sklearn.preprocessing import MinMaxScaler\n",
        "from sklearn.model_selection import train_test_split\n",
        "from sklearn.metrics import accuracy_score, confusion_matrix, classification_report\n",
        "from sklearn.model_selection import train_test_split, GridSearchCV"
      ]
    },
    {
      "cell_type": "code",
      "execution_count": 2,
      "metadata": {
        "colab": {
          "base_uri": "https://localhost:8080/"
        },
        "id": "uGMlghdJJFHM",
        "outputId": "0238db8b-80cd-4c78-e4f2-5dfd2ab244e5"
      },
      "outputs": [
        {
          "name": "stdout",
          "output_type": "stream",
          "text": [
            "Requirement already satisfied: opendatasets in /usr/local/lib/python3.10/dist-packages (0.1.22)\n",
            "Requirement already satisfied: tqdm in /usr/local/lib/python3.10/dist-packages (from opendatasets) (4.66.5)\n",
            "Requirement already satisfied: kaggle in /usr/local/lib/python3.10/dist-packages (from opendatasets) (1.6.17)\n",
            "Requirement already satisfied: click in /usr/local/lib/python3.10/dist-packages (from opendatasets) (8.1.7)\n",
            "Requirement already satisfied: six>=1.10 in /usr/local/lib/python3.10/dist-packages (from kaggle->opendatasets) (1.16.0)\n",
            "Requirement already satisfied: certifi>=2023.7.22 in /usr/local/lib/python3.10/dist-packages (from kaggle->opendatasets) (2024.8.30)\n",
            "Requirement already satisfied: python-dateutil in /usr/local/lib/python3.10/dist-packages (from kaggle->opendatasets) (2.8.2)\n",
            "Requirement already satisfied: requests in /usr/local/lib/python3.10/dist-packages (from kaggle->opendatasets) (2.32.3)\n",
            "Requirement already satisfied: python-slugify in /usr/local/lib/python3.10/dist-packages (from kaggle->opendatasets) (8.0.4)\n",
            "Requirement already satisfied: urllib3 in /usr/local/lib/python3.10/dist-packages (from kaggle->opendatasets) (2.2.3)\n",
            "Requirement already satisfied: bleach in /usr/local/lib/python3.10/dist-packages (from kaggle->opendatasets) (6.1.0)\n",
            "Requirement already satisfied: webencodings in /usr/local/lib/python3.10/dist-packages (from bleach->kaggle->opendatasets) (0.5.1)\n",
            "Requirement already satisfied: text-unidecode>=1.3 in /usr/local/lib/python3.10/dist-packages (from python-slugify->kaggle->opendatasets) (1.3)\n",
            "Requirement already satisfied: charset-normalizer<4,>=2 in /usr/local/lib/python3.10/dist-packages (from requests->kaggle->opendatasets) (3.3.2)\n",
            "Requirement already satisfied: idna<4,>=2.5 in /usr/local/lib/python3.10/dist-packages (from requests->kaggle->opendatasets) (3.10)\n",
            "Skipping, found downloaded files in \"./bank-customer-churn-dataset\" (use force=True to force download)\n"
          ]
        }
      ],
      "source": [
        "%pip install opendatasets\n",
        "import opendatasets as od\n",
        "\n",
        "#Fetching data from kaggle\n",
        "dataset_url = 'https://www.kaggle.com/datasets/gauravtopre/bank-customer-churn-dataset'\n",
        "\n",
        "od.download(dataset_url)"
      ]
    },
    {
      "cell_type": "markdown",
      "metadata": {
        "id": "jNg7aD7WJoLo"
      },
      "source": [
        "# Data Preprocessing"
      ]
    },
    {
      "cell_type": "code",
      "execution_count": 3,
      "metadata": {
        "id": "lmSQDtxN9cUp"
      },
      "outputs": [],
      "source": [
        "# Load the dataset\n",
        "data = pd.read_csv('bank-customer-churn-dataset/Bank Customer Churn Prediction.csv')\n",
        "\n",
        "# Drop columns\n",
        "data.drop(columns=['customer_id'], inplace=True)\n",
        "\n",
        "X = data.drop(columns=['churn'])\n",
        "\n",
        "# Scaling numerical columns\n",
        "cols_to_scale = ['credit_score', 'balance', 'estimated_salary']\n",
        "scaler = MinMaxScaler()\n",
        "X[cols_to_scale] = scaler.fit_transform(X[cols_to_scale])\n",
        "\n",
        "# Convert categorical columns to one-hot encoding\n",
        "X = pd.get_dummies(X, columns=['country', 'gender'], drop_first=False)\n",
        "\n",
        "#Ensure all columns are numeric\n",
        "X = X.astype(int)\n",
        "\n",
        "# Target variable\n",
        "y = data['churn']"
      ]
    },
    {
      "cell_type": "code",
      "execution_count": 4,
      "metadata": {
        "colab": {
          "base_uri": "https://localhost:8080/",
          "height": 447
        },
        "id": "P3LDAdUO93wN",
        "outputId": "e24a2191-1e11-403a-c53b-b2235060112c"
      },
      "outputs": [
        {
          "name": "stdout",
          "output_type": "stream",
          "text": [
            "Complete Preprocessed Dataset for Churn Model:\n"
          ]
        },
        {
          "data": {
            "application/vnd.google.colaboratory.intrinsic+json": {
              "summary": "{\n  \"name\": \"display(X\",\n  \"rows\": 5,\n  \"fields\": [\n    {\n      \"column\": \"credit_score\",\n      \"properties\": {\n        \"dtype\": \"number\",\n        \"std\": 0,\n        \"min\": 0,\n        \"max\": 0,\n        \"num_unique_values\": 1,\n        \"samples\": [\n          0\n        ],\n        \"semantic_type\": \"\",\n        \"description\": \"\"\n      }\n    },\n    {\n      \"column\": \"age\",\n      \"properties\": {\n        \"dtype\": \"number\",\n        \"std\": 1,\n        \"min\": 39,\n        \"max\": 43,\n        \"num_unique_values\": 4,\n        \"samples\": [\n          41\n        ],\n        \"semantic_type\": \"\",\n        \"description\": \"\"\n      }\n    },\n    {\n      \"column\": \"tenure\",\n      \"properties\": {\n        \"dtype\": \"number\",\n        \"std\": 2,\n        \"min\": 1,\n        \"max\": 8,\n        \"num_unique_values\": 3,\n        \"samples\": [\n          2\n        ],\n        \"semantic_type\": \"\",\n        \"description\": \"\"\n      }\n    },\n    {\n      \"column\": \"balance\",\n      \"properties\": {\n        \"dtype\": \"number\",\n        \"std\": 0,\n        \"min\": 0,\n        \"max\": 0,\n        \"num_unique_values\": 1,\n        \"samples\": [\n          0\n        ],\n        \"semantic_type\": \"\",\n        \"description\": \"\"\n      }\n    },\n    {\n      \"column\": \"products_number\",\n      \"properties\": {\n        \"dtype\": \"number\",\n        \"std\": 0,\n        \"min\": 1,\n        \"max\": 3,\n        \"num_unique_values\": 3,\n        \"samples\": [\n          1\n        ],\n        \"semantic_type\": \"\",\n        \"description\": \"\"\n      }\n    },\n    {\n      \"column\": \"credit_card\",\n      \"properties\": {\n        \"dtype\": \"number\",\n        \"std\": 0,\n        \"min\": 0,\n        \"max\": 1,\n        \"num_unique_values\": 2,\n        \"samples\": [\n          0\n        ],\n        \"semantic_type\": \"\",\n        \"description\": \"\"\n      }\n    },\n    {\n      \"column\": \"active_member\",\n      \"properties\": {\n        \"dtype\": \"number\",\n        \"std\": 0,\n        \"min\": 0,\n        \"max\": 1,\n        \"num_unique_values\": 2,\n        \"samples\": [\n          0\n        ],\n        \"semantic_type\": \"\",\n        \"description\": \"\"\n      }\n    },\n    {\n      \"column\": \"estimated_salary\",\n      \"properties\": {\n        \"dtype\": \"number\",\n        \"std\": 0,\n        \"min\": 0,\n        \"max\": 0,\n        \"num_unique_values\": 1,\n        \"samples\": [\n          0\n        ],\n        \"semantic_type\": \"\",\n        \"description\": \"\"\n      }\n    },\n    {\n      \"column\": \"country_France\",\n      \"properties\": {\n        \"dtype\": \"number\",\n        \"std\": 0,\n        \"min\": 0,\n        \"max\": 1,\n        \"num_unique_values\": 2,\n        \"samples\": [\n          0\n        ],\n        \"semantic_type\": \"\",\n        \"description\": \"\"\n      }\n    },\n    {\n      \"column\": \"country_Germany\",\n      \"properties\": {\n        \"dtype\": \"number\",\n        \"std\": 0,\n        \"min\": 0,\n        \"max\": 0,\n        \"num_unique_values\": 1,\n        \"samples\": [\n          0\n        ],\n        \"semantic_type\": \"\",\n        \"description\": \"\"\n      }\n    },\n    {\n      \"column\": \"country_Spain\",\n      \"properties\": {\n        \"dtype\": \"number\",\n        \"std\": 0,\n        \"min\": 0,\n        \"max\": 1,\n        \"num_unique_values\": 2,\n        \"samples\": [\n          1\n        ],\n        \"semantic_type\": \"\",\n        \"description\": \"\"\n      }\n    },\n    {\n      \"column\": \"gender_Female\",\n      \"properties\": {\n        \"dtype\": \"number\",\n        \"std\": 0,\n        \"min\": 1,\n        \"max\": 1,\n        \"num_unique_values\": 1,\n        \"samples\": [\n          1\n        ],\n        \"semantic_type\": \"\",\n        \"description\": \"\"\n      }\n    },\n    {\n      \"column\": \"gender_Male\",\n      \"properties\": {\n        \"dtype\": \"number\",\n        \"std\": 0,\n        \"min\": 0,\n        \"max\": 0,\n        \"num_unique_values\": 1,\n        \"samples\": [\n          0\n        ],\n        \"semantic_type\": \"\",\n        \"description\": \"\"\n      }\n    }\n  ]\n}",
              "type": "dataframe"
            },
            "text/html": [
              "\n",
              "  <div id=\"df-be92138e-057b-4e4b-89b7-4858a2861d44\" class=\"colab-df-container\">\n",
              "    <div>\n",
              "<style scoped>\n",
              "    .dataframe tbody tr th:only-of-type {\n",
              "        vertical-align: middle;\n",
              "    }\n",
              "\n",
              "    .dataframe tbody tr th {\n",
              "        vertical-align: top;\n",
              "    }\n",
              "\n",
              "    .dataframe thead th {\n",
              "        text-align: right;\n",
              "    }\n",
              "</style>\n",
              "<table border=\"1\" class=\"dataframe\">\n",
              "  <thead>\n",
              "    <tr style=\"text-align: right;\">\n",
              "      <th></th>\n",
              "      <th>credit_score</th>\n",
              "      <th>age</th>\n",
              "      <th>tenure</th>\n",
              "      <th>balance</th>\n",
              "      <th>products_number</th>\n",
              "      <th>credit_card</th>\n",
              "      <th>active_member</th>\n",
              "      <th>estimated_salary</th>\n",
              "      <th>country_France</th>\n",
              "      <th>country_Germany</th>\n",
              "      <th>country_Spain</th>\n",
              "      <th>gender_Female</th>\n",
              "      <th>gender_Male</th>\n",
              "    </tr>\n",
              "  </thead>\n",
              "  <tbody>\n",
              "    <tr>\n",
              "      <th>0</th>\n",
              "      <td>0</td>\n",
              "      <td>42</td>\n",
              "      <td>2</td>\n",
              "      <td>0</td>\n",
              "      <td>1</td>\n",
              "      <td>1</td>\n",
              "      <td>1</td>\n",
              "      <td>0</td>\n",
              "      <td>1</td>\n",
              "      <td>0</td>\n",
              "      <td>0</td>\n",
              "      <td>1</td>\n",
              "      <td>0</td>\n",
              "    </tr>\n",
              "    <tr>\n",
              "      <th>1</th>\n",
              "      <td>0</td>\n",
              "      <td>41</td>\n",
              "      <td>1</td>\n",
              "      <td>0</td>\n",
              "      <td>1</td>\n",
              "      <td>0</td>\n",
              "      <td>1</td>\n",
              "      <td>0</td>\n",
              "      <td>0</td>\n",
              "      <td>0</td>\n",
              "      <td>1</td>\n",
              "      <td>1</td>\n",
              "      <td>0</td>\n",
              "    </tr>\n",
              "    <tr>\n",
              "      <th>2</th>\n",
              "      <td>0</td>\n",
              "      <td>42</td>\n",
              "      <td>8</td>\n",
              "      <td>0</td>\n",
              "      <td>3</td>\n",
              "      <td>1</td>\n",
              "      <td>0</td>\n",
              "      <td>0</td>\n",
              "      <td>1</td>\n",
              "      <td>0</td>\n",
              "      <td>0</td>\n",
              "      <td>1</td>\n",
              "      <td>0</td>\n",
              "    </tr>\n",
              "    <tr>\n",
              "      <th>3</th>\n",
              "      <td>0</td>\n",
              "      <td>39</td>\n",
              "      <td>1</td>\n",
              "      <td>0</td>\n",
              "      <td>2</td>\n",
              "      <td>0</td>\n",
              "      <td>0</td>\n",
              "      <td>0</td>\n",
              "      <td>1</td>\n",
              "      <td>0</td>\n",
              "      <td>0</td>\n",
              "      <td>1</td>\n",
              "      <td>0</td>\n",
              "    </tr>\n",
              "    <tr>\n",
              "      <th>4</th>\n",
              "      <td>0</td>\n",
              "      <td>43</td>\n",
              "      <td>2</td>\n",
              "      <td>0</td>\n",
              "      <td>1</td>\n",
              "      <td>1</td>\n",
              "      <td>1</td>\n",
              "      <td>0</td>\n",
              "      <td>0</td>\n",
              "      <td>0</td>\n",
              "      <td>1</td>\n",
              "      <td>1</td>\n",
              "      <td>0</td>\n",
              "    </tr>\n",
              "  </tbody>\n",
              "</table>\n",
              "</div>\n",
              "    <div class=\"colab-df-buttons\">\n",
              "\n",
              "  <div class=\"colab-df-container\">\n",
              "    <button class=\"colab-df-convert\" onclick=\"convertToInteractive('df-be92138e-057b-4e4b-89b7-4858a2861d44')\"\n",
              "            title=\"Convert this dataframe to an interactive table.\"\n",
              "            style=\"display:none;\">\n",
              "\n",
              "  <svg xmlns=\"http://www.w3.org/2000/svg\" height=\"24px\" viewBox=\"0 -960 960 960\">\n",
              "    <path d=\"M120-120v-720h720v720H120Zm60-500h600v-160H180v160Zm220 220h160v-160H400v160Zm0 220h160v-160H400v160ZM180-400h160v-160H180v160Zm440 0h160v-160H620v160ZM180-180h160v-160H180v160Zm440 0h160v-160H620v160Z\"/>\n",
              "  </svg>\n",
              "    </button>\n",
              "\n",
              "  <style>\n",
              "    .colab-df-container {\n",
              "      display:flex;\n",
              "      gap: 12px;\n",
              "    }\n",
              "\n",
              "    .colab-df-convert {\n",
              "      background-color: #E8F0FE;\n",
              "      border: none;\n",
              "      border-radius: 50%;\n",
              "      cursor: pointer;\n",
              "      display: none;\n",
              "      fill: #1967D2;\n",
              "      height: 32px;\n",
              "      padding: 0 0 0 0;\n",
              "      width: 32px;\n",
              "    }\n",
              "\n",
              "    .colab-df-convert:hover {\n",
              "      background-color: #E2EBFA;\n",
              "      box-shadow: 0px 1px 2px rgba(60, 64, 67, 0.3), 0px 1px 3px 1px rgba(60, 64, 67, 0.15);\n",
              "      fill: #174EA6;\n",
              "    }\n",
              "\n",
              "    .colab-df-buttons div {\n",
              "      margin-bottom: 4px;\n",
              "    }\n",
              "\n",
              "    [theme=dark] .colab-df-convert {\n",
              "      background-color: #3B4455;\n",
              "      fill: #D2E3FC;\n",
              "    }\n",
              "\n",
              "    [theme=dark] .colab-df-convert:hover {\n",
              "      background-color: #434B5C;\n",
              "      box-shadow: 0px 1px 3px 1px rgba(0, 0, 0, 0.15);\n",
              "      filter: drop-shadow(0px 1px 2px rgba(0, 0, 0, 0.3));\n",
              "      fill: #FFFFFF;\n",
              "    }\n",
              "  </style>\n",
              "\n",
              "    <script>\n",
              "      const buttonEl =\n",
              "        document.querySelector('#df-be92138e-057b-4e4b-89b7-4858a2861d44 button.colab-df-convert');\n",
              "      buttonEl.style.display =\n",
              "        google.colab.kernel.accessAllowed ? 'block' : 'none';\n",
              "\n",
              "      async function convertToInteractive(key) {\n",
              "        const element = document.querySelector('#df-be92138e-057b-4e4b-89b7-4858a2861d44');\n",
              "        const dataTable =\n",
              "          await google.colab.kernel.invokeFunction('convertToInteractive',\n",
              "                                                    [key], {});\n",
              "        if (!dataTable) return;\n",
              "\n",
              "        const docLinkHtml = 'Like what you see? Visit the ' +\n",
              "          '<a target=\"_blank\" href=https://colab.research.google.com/notebooks/data_table.ipynb>data table notebook</a>'\n",
              "          + ' to learn more about interactive tables.';\n",
              "        element.innerHTML = '';\n",
              "        dataTable['output_type'] = 'display_data';\n",
              "        await google.colab.output.renderOutput(dataTable, element);\n",
              "        const docLink = document.createElement('div');\n",
              "        docLink.innerHTML = docLinkHtml;\n",
              "        element.appendChild(docLink);\n",
              "      }\n",
              "    </script>\n",
              "  </div>\n",
              "\n",
              "\n",
              "<div id=\"df-8910df05-92f6-42a1-ac39-1346bbab7989\">\n",
              "  <button class=\"colab-df-quickchart\" onclick=\"quickchart('df-8910df05-92f6-42a1-ac39-1346bbab7989')\"\n",
              "            title=\"Suggest charts\"\n",
              "            style=\"display:none;\">\n",
              "\n",
              "<svg xmlns=\"http://www.w3.org/2000/svg\" height=\"24px\"viewBox=\"0 0 24 24\"\n",
              "     width=\"24px\">\n",
              "    <g>\n",
              "        <path d=\"M19 3H5c-1.1 0-2 .9-2 2v14c0 1.1.9 2 2 2h14c1.1 0 2-.9 2-2V5c0-1.1-.9-2-2-2zM9 17H7v-7h2v7zm4 0h-2V7h2v10zm4 0h-2v-4h2v4z\"/>\n",
              "    </g>\n",
              "</svg>\n",
              "  </button>\n",
              "\n",
              "<style>\n",
              "  .colab-df-quickchart {\n",
              "      --bg-color: #E8F0FE;\n",
              "      --fill-color: #1967D2;\n",
              "      --hover-bg-color: #E2EBFA;\n",
              "      --hover-fill-color: #174EA6;\n",
              "      --disabled-fill-color: #AAA;\n",
              "      --disabled-bg-color: #DDD;\n",
              "  }\n",
              "\n",
              "  [theme=dark] .colab-df-quickchart {\n",
              "      --bg-color: #3B4455;\n",
              "      --fill-color: #D2E3FC;\n",
              "      --hover-bg-color: #434B5C;\n",
              "      --hover-fill-color: #FFFFFF;\n",
              "      --disabled-bg-color: #3B4455;\n",
              "      --disabled-fill-color: #666;\n",
              "  }\n",
              "\n",
              "  .colab-df-quickchart {\n",
              "    background-color: var(--bg-color);\n",
              "    border: none;\n",
              "    border-radius: 50%;\n",
              "    cursor: pointer;\n",
              "    display: none;\n",
              "    fill: var(--fill-color);\n",
              "    height: 32px;\n",
              "    padding: 0;\n",
              "    width: 32px;\n",
              "  }\n",
              "\n",
              "  .colab-df-quickchart:hover {\n",
              "    background-color: var(--hover-bg-color);\n",
              "    box-shadow: 0 1px 2px rgba(60, 64, 67, 0.3), 0 1px 3px 1px rgba(60, 64, 67, 0.15);\n",
              "    fill: var(--button-hover-fill-color);\n",
              "  }\n",
              "\n",
              "  .colab-df-quickchart-complete:disabled,\n",
              "  .colab-df-quickchart-complete:disabled:hover {\n",
              "    background-color: var(--disabled-bg-color);\n",
              "    fill: var(--disabled-fill-color);\n",
              "    box-shadow: none;\n",
              "  }\n",
              "\n",
              "  .colab-df-spinner {\n",
              "    border: 2px solid var(--fill-color);\n",
              "    border-color: transparent;\n",
              "    border-bottom-color: var(--fill-color);\n",
              "    animation:\n",
              "      spin 1s steps(1) infinite;\n",
              "  }\n",
              "\n",
              "  @keyframes spin {\n",
              "    0% {\n",
              "      border-color: transparent;\n",
              "      border-bottom-color: var(--fill-color);\n",
              "      border-left-color: var(--fill-color);\n",
              "    }\n",
              "    20% {\n",
              "      border-color: transparent;\n",
              "      border-left-color: var(--fill-color);\n",
              "      border-top-color: var(--fill-color);\n",
              "    }\n",
              "    30% {\n",
              "      border-color: transparent;\n",
              "      border-left-color: var(--fill-color);\n",
              "      border-top-color: var(--fill-color);\n",
              "      border-right-color: var(--fill-color);\n",
              "    }\n",
              "    40% {\n",
              "      border-color: transparent;\n",
              "      border-right-color: var(--fill-color);\n",
              "      border-top-color: var(--fill-color);\n",
              "    }\n",
              "    60% {\n",
              "      border-color: transparent;\n",
              "      border-right-color: var(--fill-color);\n",
              "    }\n",
              "    80% {\n",
              "      border-color: transparent;\n",
              "      border-right-color: var(--fill-color);\n",
              "      border-bottom-color: var(--fill-color);\n",
              "    }\n",
              "    90% {\n",
              "      border-color: transparent;\n",
              "      border-bottom-color: var(--fill-color);\n",
              "    }\n",
              "  }\n",
              "</style>\n",
              "\n",
              "  <script>\n",
              "    async function quickchart(key) {\n",
              "      const quickchartButtonEl =\n",
              "        document.querySelector('#' + key + ' button');\n",
              "      quickchartButtonEl.disabled = true;  // To prevent multiple clicks.\n",
              "      quickchartButtonEl.classList.add('colab-df-spinner');\n",
              "      try {\n",
              "        const charts = await google.colab.kernel.invokeFunction(\n",
              "            'suggestCharts', [key], {});\n",
              "      } catch (error) {\n",
              "        console.error('Error during call to suggestCharts:', error);\n",
              "      }\n",
              "      quickchartButtonEl.classList.remove('colab-df-spinner');\n",
              "      quickchartButtonEl.classList.add('colab-df-quickchart-complete');\n",
              "    }\n",
              "    (() => {\n",
              "      let quickchartButtonEl =\n",
              "        document.querySelector('#df-8910df05-92f6-42a1-ac39-1346bbab7989 button');\n",
              "      quickchartButtonEl.style.display =\n",
              "        google.colab.kernel.accessAllowed ? 'block' : 'none';\n",
              "    })();\n",
              "  </script>\n",
              "</div>\n",
              "\n",
              "    </div>\n",
              "  </div>\n"
            ],
            "text/plain": [
              "   credit_score  age  tenure  balance  products_number  credit_card  \\\n",
              "0             0   42       2        0                1            1   \n",
              "1             0   41       1        0                1            0   \n",
              "2             0   42       8        0                3            1   \n",
              "3             0   39       1        0                2            0   \n",
              "4             0   43       2        0                1            1   \n",
              "\n",
              "   active_member  estimated_salary  country_France  country_Germany  \\\n",
              "0              1                 0               1                0   \n",
              "1              1                 0               0                0   \n",
              "2              0                 0               1                0   \n",
              "3              0                 0               1                0   \n",
              "4              1                 0               0                0   \n",
              "\n",
              "   country_Spain  gender_Female  gender_Male  \n",
              "0              0              1            0  \n",
              "1              1              1            0  \n",
              "2              0              1            0  \n",
              "3              0              1            0  \n",
              "4              1              1            0  "
            ]
          },
          "metadata": {},
          "output_type": "display_data"
        },
        {
          "data": {
            "text/html": [
              "<div>\n",
              "<style scoped>\n",
              "    .dataframe tbody tr th:only-of-type {\n",
              "        vertical-align: middle;\n",
              "    }\n",
              "\n",
              "    .dataframe tbody tr th {\n",
              "        vertical-align: top;\n",
              "    }\n",
              "\n",
              "    .dataframe thead th {\n",
              "        text-align: right;\n",
              "    }\n",
              "</style>\n",
              "<table border=\"1\" class=\"dataframe\">\n",
              "  <thead>\n",
              "    <tr style=\"text-align: right;\">\n",
              "      <th></th>\n",
              "      <th>churn</th>\n",
              "    </tr>\n",
              "  </thead>\n",
              "  <tbody>\n",
              "    <tr>\n",
              "      <th>0</th>\n",
              "      <td>1</td>\n",
              "    </tr>\n",
              "    <tr>\n",
              "      <th>1</th>\n",
              "      <td>0</td>\n",
              "    </tr>\n",
              "    <tr>\n",
              "      <th>2</th>\n",
              "      <td>1</td>\n",
              "    </tr>\n",
              "    <tr>\n",
              "      <th>3</th>\n",
              "      <td>0</td>\n",
              "    </tr>\n",
              "    <tr>\n",
              "      <th>4</th>\n",
              "      <td>0</td>\n",
              "    </tr>\n",
              "  </tbody>\n",
              "</table>\n",
              "</div><br><label><b>dtype:</b> int64</label>"
            ],
            "text/plain": [
              "0    1\n",
              "1    0\n",
              "2    1\n",
              "3    0\n",
              "4    0\n",
              "Name: churn, dtype: int64"
            ]
          },
          "metadata": {},
          "output_type": "display_data"
        }
      ],
      "source": [
        "print(\"Complete Preprocessed Dataset for Churn Model:\")\n",
        "display(X.head(), y.head())"
      ]
    },
    {
      "cell_type": "markdown",
      "metadata": {
        "id": "p4YkE0noSCAn"
      },
      "source": [
        "# Splitting data"
      ]
    },
    {
      "cell_type": "code",
      "execution_count": 5,
      "metadata": {
        "id": "j_dwNpGEUiup"
      },
      "outputs": [],
      "source": [
        "X_train_temp, X_temp, y_train_temp, y_temp = train_test_split(X, y, test_size=0.3, random_state=42)\n",
        "X_val, X_test, y_val, y_test = train_test_split(X_temp, y_temp, test_size=0.5, random_state=42)"
      ]
    },
    {
      "cell_type": "code",
      "execution_count": 6,
      "metadata": {
        "id": "Gyj0mYoIjM1f"
      },
      "outputs": [],
      "source": [
        "# Apply SMOTE on the training data to handle class imbalance\n",
        "smote = SMOTE(random_state=42)\n",
        "X_train_smote, y_train_smote = smote.fit_resample(X_train_temp, y_train_temp)"
      ]
    },
    {
      "cell_type": "code",
      "execution_count": 7,
      "metadata": {
        "colab": {
          "base_uri": "https://localhost:8080/"
        },
        "id": "o6zO65mVVIDU",
        "outputId": "72f3a4e2-c486-4fd5-edc8-5b06ea90e7aa"
      },
      "outputs": [
        {
          "name": "stdout",
          "output_type": "stream",
          "text": [
            "Original data: 10000 rows\n",
            "Training data: 7000 rows\n",
            "Training data (SMOTE): 11094 rows\n",
            "Validation data: 1500 rows\n",
            "Test data: 1500 rows\n"
          ]
        }
      ],
      "source": [
        "print(f'Original data: {X.shape[0]} rows')\n",
        "print(f'Training data: {X_train_temp.shape[0]} rows')\n",
        "print(f'Training data (SMOTE): {X_train_smote.shape[0]} rows')\n",
        "print(f'Validation data: {X_val.shape[0]} rows')\n",
        "print(f'Test data: {X_test.shape[0]} rows')"
      ]
    },
    {
      "cell_type": "markdown",
      "metadata": {
        "id": "k6jQ4CVsWee1"
      },
      "source": [
        "# Logistic Regression Model"
      ]
    },
    {
      "cell_type": "markdown",
      "metadata": {
        "id": "BkGE0Mnjk61y"
      },
      "source": [
        "#### We're not using SMOTE with Logistic Regression because it may cause overfitting by introducing synthetic data. Instead, we're using class_weight='balanced' to handle class imbalance, which is more suitable for this linear model."
      ]
    },
    {
      "cell_type": "code",
      "execution_count": 8,
      "metadata": {
        "id": "aQFRjjd0WdsT"
      },
      "outputs": [],
      "source": [
        "# Logistic Regression pipeline\n",
        "logreg_pipeline = Pipeline(\n",
        "    steps=[\n",
        "        ('scaler', StandardScaler()),\n",
        "        ('logreg', LogisticRegression(\n",
        "            penalty='l2',              # L2 regularization\n",
        "            max_iter=1000,             # Ensure convergence\n",
        "            class_weight='balanced',   # Handle class imbalance\n",
        "            solver='saga',             # Use saga solver\n",
        "            n_jobs=-1                  # Use all CPU cores\n",
        "            ))\n",
        "    ]\n",
        ")"
      ]
    },
    {
      "cell_type": "code",
      "execution_count": 9,
      "metadata": {
        "colab": {
          "base_uri": "https://localhost:8080/"
        },
        "id": "5Gy9aqCBW2yp",
        "outputId": "380befb3-f44f-4ed4-c75b-7d22e3be787b"
      },
      "outputs": [
        {
          "name": "stdout",
          "output_type": "stream",
          "text": [
            "LogReg Training time: 0.16 seconds\n"
          ]
        }
      ],
      "source": [
        "start_time = time.time()\n",
        "logreg_pipeline.fit(X_train_temp, y_train_temp)\n",
        "end_time = time.time()\n",
        "\n",
        "train_time_logreg = end_time - start_time\n",
        "\n",
        "print(f\"LogReg Training time: {train_time_logreg:.2f} seconds\")"
      ]
    },
    {
      "cell_type": "markdown",
      "metadata": {
        "id": "D6JYCkj58E91"
      },
      "source": [
        "### Predict on the validation and test set"
      ]
    },
    {
      "cell_type": "code",
      "execution_count": 10,
      "metadata": {
        "id": "wH6gxK3Sm_Ae"
      },
      "outputs": [],
      "source": [
        "y_pred_val_logreg = logreg_pipeline.predict(X_val)\n",
        "y_pred_test_logreg = logreg_pipeline.predict(X_test)"
      ]
    },
    {
      "cell_type": "markdown",
      "metadata": {
        "id": "u4sI7KvT8PPk"
      },
      "source": [
        "### Check Accuracy"
      ]
    },
    {
      "cell_type": "code",
      "execution_count": 11,
      "metadata": {
        "colab": {
          "base_uri": "https://localhost:8080/"
        },
        "id": "-rtNgYlfnGIZ",
        "outputId": "9e7228d2-3d78-41cc-8ffd-3017998806d5"
      },
      "outputs": [
        {
          "name": "stdout",
          "output_type": "stream",
          "text": [
            "LogReg Validation Accuracy: 0.70\n",
            "LogReg Test Accuracy: 0.72\n"
          ]
        }
      ],
      "source": [
        "val_acc_logreg = accuracy_score(y_val, y_pred_val_logreg)\n",
        "test_acc_logreg = accuracy_score(y_test, y_pred_test_logreg)\n",
        "\n",
        "print(f\"LogReg Validation Accuracy: {val_acc_logreg:.2f}\")\n",
        "print(f\"LogReg Test Accuracy: {test_acc_logreg:.2f}\")"
      ]
    },
    {
      "cell_type": "markdown",
      "metadata": {
        "id": "-lsLYpeD8o3k"
      },
      "source": [
        "###  Classification report for validation and test sets"
      ]
    },
    {
      "cell_type": "code",
      "execution_count": 13,
      "metadata": {
        "colab": {
          "base_uri": "https://localhost:8080/"
        },
        "id": "tNsVX80UnnfS",
        "outputId": "bd80569e-2b09-4592-e686-93993971b71d"
      },
      "outputs": [
        {
          "name": "stdout",
          "output_type": "stream",
          "text": [
            "LogReg Classification Report (Validation):\n",
            "              precision    recall  f1-score   support\n",
            "\n",
            "           0       0.91      0.70      0.79      1216\n",
            "           1       0.35      0.69      0.46       284\n",
            "\n",
            "    accuracy                           0.70      1500\n",
            "   macro avg       0.63      0.69      0.63      1500\n",
            "weighted avg       0.80      0.70      0.73      1500\n",
            "\n",
            "LogReg Classification Report (Test):\n",
            "              precision    recall  f1-score   support\n",
            "\n",
            "           0       0.91      0.72      0.80      1200\n",
            "           1       0.39      0.72      0.51       300\n",
            "\n",
            "    accuracy                           0.72      1500\n",
            "   macro avg       0.65      0.72      0.66      1500\n",
            "weighted avg       0.81      0.72      0.74      1500\n",
            "\n"
          ]
        }
      ],
      "source": [
        "report_val_logreg = classification_report(y_val, y_pred_val_logreg)\n",
        "report_test_logreg = classification_report(y_test, y_pred_test_logreg)\n",
        "\n",
        "print(f\"LogReg Classification Report (Validation):\\n{report_val_logreg}\")\n",
        "print(f\"LogReg Classification Report (Test):\\n{report_test_logreg}\")"
      ]
    },
    {
      "cell_type": "markdown",
      "metadata": {
        "id": "kx4-1d5Ow2-t"
      },
      "source": [
        "# XGBClassifier Model"
      ]
    },
    {
      "cell_type": "code",
      "execution_count": 14,
      "metadata": {
        "id": "LNuZlTHVw2XX"
      },
      "outputs": [],
      "source": [
        "xgb_pipeline = Pipeline(\n",
        "    steps=[\n",
        "        ('scaler', StandardScaler()),\n",
        "        ('xgb', XGBClassifier(\n",
        "            objective='binary:logistic',     # Binary classification\n",
        "            eval_metric='logloss',           # Evaluation metric\n",
        "            n_estimators=200,                # Number of boosting rounds\n",
        "            n_jobs=-1                        # Use all CPU cores\n",
        "            ))\n",
        "    ])"
      ]
    },
    {
      "cell_type": "code",
      "execution_count": 15,
      "metadata": {
        "colab": {
          "base_uri": "https://localhost:8080/"
        },
        "id": "UtSBgOJE1e3E",
        "outputId": "a41bc375-2347-4f9a-808c-5c69c8ca56e0"
      },
      "outputs": [
        {
          "name": "stdout",
          "output_type": "stream",
          "text": [
            "XGBoost Training time: 0.19 seconds\n"
          ]
        }
      ],
      "source": [
        "start_time = time.time()\n",
        "xgb_pipeline.fit(X_train_temp, y_train_temp)\n",
        "end_time = time.time()\n",
        "\n",
        "train_time_xgb = end_time - start_time\n",
        "\n",
        "print(f\"XGBoost Training time: {train_time_xgb:.2f} seconds\")"
      ]
    },
    {
      "cell_type": "markdown",
      "metadata": {
        "id": "Ug_3r1tP7aO4"
      },
      "source": [
        "### Predictions and evalutaion"
      ]
    },
    {
      "cell_type": "code",
      "execution_count": 16,
      "metadata": {
        "colab": {
          "base_uri": "https://localhost:8080/"
        },
        "id": "KmqytyGh1pYQ",
        "outputId": "7e45714b-0685-4381-889c-e2b8d83c6caa"
      },
      "outputs": [
        {
          "name": "stdout",
          "output_type": "stream",
          "text": [
            "XGBoost Validation Accuracy (no SMOTE): 0.85\n",
            "XGBoost Test Accuracy (no SMOTE): 0.84\n",
            "XGBoost Classification Report (Test, no SMOTE):\n",
            "              precision    recall  f1-score   support\n",
            "\n",
            "           0       0.87      0.94      0.90      1200\n",
            "           1       0.65      0.45      0.53       300\n",
            "\n",
            "    accuracy                           0.84      1500\n",
            "   macro avg       0.76      0.70      0.72      1500\n",
            "weighted avg       0.83      0.84      0.83      1500\n",
            "\n"
          ]
        }
      ],
      "source": [
        "y_pred_val_xgb = xgb_pipeline.predict(X_val)\n",
        "y_pred_test_xgb = xgb_pipeline.predict(X_test)\n",
        "print(f\"XGBoost Validation Accuracy (no SMOTE): {accuracy_score(y_val, y_pred_val_xgb):.2f}\")\n",
        "print(f\"XGBoost Test Accuracy (no SMOTE): {accuracy_score(y_test, y_pred_test_xgb):.2f}\")\n",
        "print(\"XGBoost Classification Report (Test, no SMOTE):\")\n",
        "print(classification_report(y_test, y_pred_test_xgb))"
      ]
    },
    {
      "cell_type": "markdown",
      "metadata": {
        "id": "ImKVKWS87k-L"
      },
      "source": [
        "# XGBClassifier Model with SMOTE"
      ]
    },
    {
      "cell_type": "code",
      "execution_count": 17,
      "metadata": {
        "id": "U9-RBQb21-GY"
      },
      "outputs": [],
      "source": [
        "smote = SMOTE(random_state=42)\n",
        "X_train_smote, y_train_smote = smote.fit_resample(X_train_temp, y_train_temp)"
      ]
    },
    {
      "cell_type": "code",
      "execution_count": 18,
      "metadata": {
        "id": "cXf3bCWXm8jP"
      },
      "outputs": [],
      "source": [
        "xgb_pipeline_smote = Pipeline(\n",
        "    steps=[\n",
        "        ('scaler', StandardScaler()),\n",
        "        ('xgb', XGBClassifier(\n",
        "            objective='binary:logistic',\n",
        "            eval_metric='logloss',\n",
        "            n_estimators=200,\n",
        "            n_jobs=-1\n",
        "        ))\n",
        "    ])"
      ]
    },
    {
      "cell_type": "code",
      "execution_count": 19,
      "metadata": {
        "colab": {
          "base_uri": "https://localhost:8080/"
        },
        "id": "sLzZI37lnOqb",
        "outputId": "c72adf20-8a11-4fa1-e662-a15451b980b6"
      },
      "outputs": [
        {
          "name": "stdout",
          "output_type": "stream",
          "text": [
            "XGBoost Training time (with SMOTE): 0.92 seconds\n"
          ]
        }
      ],
      "source": [
        "start_time = time.time()\n",
        "xgb_pipeline_smote.fit(X_train_smote, y_train_smote)\n",
        "end_time = time.time()\n",
        "train_time_xgb_smote = end_time - start_time\n",
        "print(f\"XGBoost Training time (with SMOTE): {train_time_xgb_smote:.2f} seconds\")"
      ]
    },
    {
      "cell_type": "markdown",
      "metadata": {
        "id": "YeTXb65RnSSv"
      },
      "source": [
        "### Predictions and evaluation with SMOTE"
      ]
    },
    {
      "cell_type": "code",
      "execution_count": 20,
      "metadata": {
        "colab": {
          "base_uri": "https://localhost:8080/"
        },
        "id": "tpYiKcHRnRFH",
        "outputId": "4f0c8153-3d99-49f1-ae85-6d5e68bf2ae0"
      },
      "outputs": [
        {
          "name": "stdout",
          "output_type": "stream",
          "text": [
            "XGBoost Validation Accuracy (with SMOTE): 0.81\n",
            "XGBoost Test Accuracy (with SMOTE): 0.81\n",
            "XGBoost Classification Report (Test, with SMOTE):\n",
            "              precision    recall  f1-score   support\n",
            "\n",
            "           0       0.89      0.88      0.88      1200\n",
            "           1       0.53      0.55      0.54       300\n",
            "\n",
            "    accuracy                           0.81      1500\n",
            "   macro avg       0.71      0.71      0.71      1500\n",
            "weighted avg       0.82      0.81      0.81      1500\n",
            "\n"
          ]
        }
      ],
      "source": [
        "y_pred_val_xgb_smote = xgb_pipeline_smote.predict(X_val)\n",
        "y_pred_test_xgb_smote = xgb_pipeline_smote.predict(X_test)\n",
        "print(f\"XGBoost Validation Accuracy (with SMOTE): {accuracy_score(y_val, y_pred_val_xgb_smote):.2f}\")\n",
        "print(f\"XGBoost Test Accuracy (with SMOTE): {accuracy_score(y_test, y_pred_test_xgb_smote):.2f}\")\n",
        "print(\"XGBoost Classification Report (Test, with SMOTE):\")\n",
        "print(classification_report(y_test, y_pred_test_xgb_smote))"
      ]
    },
    {
      "cell_type": "markdown",
      "metadata": {
        "id": "vywzxchgoR65"
      },
      "source": [
        "- Without SMOTE: XGBoost achieves higher accuracy (84%), but it struggles with detecting churn cases (low recall of 45%). This means it's better at predicting non-churn (Klass 0) but misses many churn customers (Klass 1).\n",
        "\n",
        "- With SMOTE: XGBoost's recall for churn cases improves to 55%, meaning it catches more churn customers. However, overall accuracy drops slightly to 81%, as the model becomes more balanced but may also produce more false positives for churn (lower precision)."
      ]
    },
    {
      "cell_type": "markdown",
      "metadata": {
        "id": "9oBp4OtmuHur"
      },
      "source": [
        "# SVM Model"
      ]
    },
    {
      "cell_type": "code",
      "execution_count": 21,
      "metadata": {
        "id": "6wPszKRyu-_G"
      },
      "outputs": [],
      "source": [
        "# SVM pipeline\n",
        "svm_pipeline = Pipeline(\n",
        "    steps=[\n",
        "        ('scaler', StandardScaler()),\n",
        "        ('svm', SVC(\n",
        "            kernel='rbf',             # Radial basis function kernel\n",
        "            C=1.0,                    # Regularization parameter\n",
        "            class_weight='balanced',  # Handle class imbalance\n",
        "            probability=True         # Enable probability estimates\n",
        "        ))\n",
        "    ]\n",
        ")\n"
      ]
    },
    {
      "cell_type": "code",
      "execution_count": 22,
      "metadata": {
        "colab": {
          "base_uri": "https://localhost:8080/"
        },
        "id": "Z9QQNX57vPoc",
        "outputId": "2e96680c-deda-4345-c2c0-c5fd17104288"
      },
      "outputs": [
        {
          "name": "stdout",
          "output_type": "stream",
          "text": [
            "SVM Training time: 31.97 seconds\n"
          ]
        }
      ],
      "source": [
        "start_time = time.time()\n",
        "svm_pipeline.fit(X_train_temp, y_train_temp)\n",
        "end_time = time.time()\n",
        "\n",
        "train_time_svm = end_time - start_time\n",
        "\n",
        "print(f\"SVM Training time: {train_time_svm:.2f} seconds\")"
      ]
    },
    {
      "cell_type": "markdown",
      "metadata": {
        "id": "SGo9WVTtvbZu"
      },
      "source": [
        "### Prediction and evaluation"
      ]
    },
    {
      "cell_type": "code",
      "execution_count": 23,
      "metadata": {
        "colab": {
          "base_uri": "https://localhost:8080/"
        },
        "id": "s14zfvfHvgHC",
        "outputId": "fcdede08-a7b1-4350-c748-00a5bfdb01b6"
      },
      "outputs": [
        {
          "name": "stdout",
          "output_type": "stream",
          "text": [
            "SVM Validation Accuracy: 0.79\n",
            "SVM Test Accuracy: 0.79\n",
            "SVM Classification Report:\n",
            "              precision    recall  f1-score   support\n",
            "\n",
            "           0       0.92      0.81      0.86      1200\n",
            "           1       0.49      0.74      0.59       300\n",
            "\n",
            "    accuracy                           0.79      1500\n",
            "   macro avg       0.71      0.77      0.72      1500\n",
            "weighted avg       0.84      0.79      0.81      1500\n",
            "\n"
          ]
        }
      ],
      "source": [
        "val_acc_svm = svm_pipeline.predict(X_val)\n",
        "test_acc_svm = svm_pipeline.predict(X_test)\n",
        "print(f\"SVM Validation Accuracy: {accuracy_score(y_val, val_acc_svm):.2f}\")\n",
        "print(f\"SVM Test Accuracy: {accuracy_score(y_test, test_acc_svm):.2f}\")\n",
        "print(\"SVM Classification Report:\")\n",
        "print(classification_report(y_test, test_acc_svm))\n"
      ]
    },
    {
      "cell_type": "markdown",
      "metadata": {
        "id": "RVAHUyUsqHLy"
      },
      "source": [
        "# SVM Model with SMOTE"
      ]
    },
    {
      "cell_type": "code",
      "execution_count": 24,
      "metadata": {
        "id": "mbHuflNeqKWg"
      },
      "outputs": [],
      "source": [
        "smote = SMOTE(random_state=42)\n",
        "X_train_smote, y_train_smote = smote.fit_resample(X_train_temp, y_train_temp)"
      ]
    },
    {
      "cell_type": "code",
      "execution_count": 25,
      "metadata": {
        "id": "EoaxW9L8qOAD"
      },
      "outputs": [],
      "source": [
        "svm_pipeline_smote = Pipeline(\n",
        "    steps=[\n",
        "        ('scaler', StandardScaler()),  # Optional scaling step\n",
        "        ('svm', SVC(\n",
        "            kernel='rbf',\n",
        "            C=1.0,\n",
        "            class_weight='balanced',\n",
        "            probability=True\n",
        "        ))\n",
        "    ])\n"
      ]
    },
    {
      "cell_type": "code",
      "execution_count": 26,
      "metadata": {
        "colab": {
          "base_uri": "https://localhost:8080/"
        },
        "id": "BifXYr_oqPIg",
        "outputId": "5d705b1b-e018-4f7d-8ef4-eb031021093f"
      },
      "outputs": [
        {
          "name": "stdout",
          "output_type": "stream",
          "text": [
            "SVM Training time (with SMOTE): 21.46 seconds\n"
          ]
        }
      ],
      "source": [
        "start_time = time.time()\n",
        "svm_pipeline_smote.fit(X_train_smote, y_train_smote)\n",
        "end_time = time.time()\n",
        "train_time_svm_smote = end_time - start_time\n",
        "print(f\"SVM Training time (with SMOTE): {train_time_svm_smote:.2f} seconds\")"
      ]
    },
    {
      "cell_type": "markdown",
      "metadata": {
        "id": "Er0PKDPhqTz0"
      },
      "source": [
        "### Predictions and evaluation with SMOTE"
      ]
    },
    {
      "cell_type": "code",
      "execution_count": 27,
      "metadata": {
        "colab": {
          "base_uri": "https://localhost:8080/"
        },
        "id": "kgZQsBPbqQ5w",
        "outputId": "c7d169e0-5611-4113-f9ec-224dd78ac719"
      },
      "outputs": [
        {
          "name": "stdout",
          "output_type": "stream",
          "text": [
            "SVM Validation Accuracy (SMOTE): 0.82\n",
            "SVM Test Accuracy (SMOTE): 0.82\n",
            "SVM Classification Report (Test (SMOTE):\n",
            "              precision    recall  f1-score   support\n",
            "\n",
            "           0       0.90      0.87      0.89      1200\n",
            "           1       0.55      0.63      0.59       300\n",
            "\n",
            "    accuracy                           0.82      1500\n",
            "   macro avg       0.73      0.75      0.74      1500\n",
            "weighted avg       0.83      0.82      0.83      1500\n",
            "\n"
          ]
        }
      ],
      "source": [
        "val_acc_svm_smote = svm_pipeline_smote.predict(X_val)\n",
        "test_acc_svm_smote = svm_pipeline_smote.predict(X_test)\n",
        "print(f\"SVM Validation Accuracy (SMOTE): {accuracy_score(y_val, val_acc_svm_smote):.2f}\")\n",
        "print(f\"SVM Test Accuracy (SMOTE): {accuracy_score(y_test, test_acc_svm_smote):.2f}\")\n",
        "print(\"SVM Classification Report (Test (SMOTE):\")\n",
        "print(classification_report(y_test, test_acc_svm_smote))"
      ]
    },
    {
      "cell_type": "markdown",
      "metadata": {
        "id": "QzA2qzTGqtdJ"
      },
      "source": [
        "- Without SMOTE: SVM achieved a test accuracy of 79%, with a recall of 74% for churn cases (Class 1). However, the precision for Class 1 was relatively low at 49%, indicating a higher number of false positives.\n",
        "\n",
        "- With SMOTE: SVM's test accuracy improved to 82%, and recall for Class 1 increased to 63%. Precision also improved slightly to 55%, resulting in a better balance between recall and precision for churn cases."
      ]
    },
    {
      "cell_type": "markdown",
      "metadata": {
        "id": "l7Y7jdI91hI2"
      },
      "source": [
        "# We have found that SVM (SMOTE) is the best-performing model based on the comparison of accuracy, recall and precision.\n",
        "\n",
        "We'll proceed with the following steps:\n",
        "\n",
        "1. Hyperparameter Tuning for SVM using GridSearchCV.\n",
        "2. Fit the GridSearchCV\n",
        "3. Evaluate the Best Model\n"
      ]
    },
    {
      "cell_type": "markdown",
      "metadata": {
        "id": "57yExFZV18aH"
      },
      "source": [
        "### 1. Hyperparameter tuning with GridSearchCV"
      ]
    },
    {
      "cell_type": "code",
      "execution_count": 28,
      "metadata": {
        "id": "VaGGXDs91-7l"
      },
      "outputs": [],
      "source": [
        "# Define the parameter grid\n",
        "param_grid = {\n",
        "    'svm__C': [0.1, 1, 10],             # Regularization parameter\n",
        "    'svm__kernel': ['rbf', 'linear'],    # Kernel type\n",
        "    'svm__gamma': ['scale', 'auto']      # Kernel coefficient\n",
        "}\n",
        "\n",
        "# Set up GridSearchCV\n",
        "grid_search = GridSearchCV(\n",
        "    estimator=svm_pipeline,\n",
        "    param_grid=param_grid,\n",
        "    scoring='f1',                        # Use f1-score to focus on class 1\n",
        "    cv=3,                                # 3-fold cross-validation\n",
        "    verbose=2,\n",
        "    n_jobs=-1\n",
        ")"
      ]
    },
    {
      "cell_type": "markdown",
      "metadata": {
        "id": "hh4ziZts2Idt"
      },
      "source": [
        "### 2. Fit the GridSearchCV"
      ]
    },
    {
      "cell_type": "code",
      "execution_count": 29,
      "metadata": {
        "colab": {
          "base_uri": "https://localhost:8080/"
        },
        "id": "Zbhwrwu32KyJ",
        "outputId": "401cedb2-6d70-42ce-e6c3-88aed91e42eb"
      },
      "outputs": [
        {
          "name": "stdout",
          "output_type": "stream",
          "text": [
            "Fitting 3 folds for each of 12 candidates, totalling 36 fits\n",
            "Best hyperparameters: {'svm__C': 10, 'svm__gamma': 'auto', 'svm__kernel': 'rbf'}\n"
          ]
        }
      ],
      "source": [
        "# Fit the GridSearchCV\n",
        "grid_search.fit(X_train_smote, y_train_smote)\n",
        "print(\"Best hyperparameters:\", grid_search.best_params_)\n",
        "\n",
        "# Fit the model on the best found parameters\n",
        "best_svm = grid_search.best_estimator_"
      ]
    },
    {
      "cell_type": "markdown",
      "metadata": {
        "id": "gZeCU_xB3OUr"
      },
      "source": [
        "### 3. Evaluate the best model"
      ]
    },
    {
      "cell_type": "code",
      "execution_count": 30,
      "metadata": {
        "colab": {
          "base_uri": "https://localhost:8080/"
        },
        "id": "OOiefqQn3TRH",
        "outputId": "89843606-6696-41ae-a52e-906ef44fe351"
      },
      "outputs": [
        {
          "name": "stdout",
          "output_type": "stream",
          "text": [
            "Test Accuracy: 0.8193333333333334\n",
            "Classification Report (Test):\n",
            "              precision    recall  f1-score   support\n",
            "\n",
            "           0       0.91      0.86      0.88      1200\n",
            "           1       0.54      0.65      0.59       300\n",
            "\n",
            "    accuracy                           0.82      1500\n",
            "   macro avg       0.72      0.75      0.74      1500\n",
            "weighted avg       0.83      0.82      0.83      1500\n",
            "\n"
          ]
        }
      ],
      "source": [
        "y_pred_test = best_svm.predict(X_test)\n",
        "print(\"Test Accuracy:\", accuracy_score(y_test, y_pred_test))\n",
        "print(\"Classification Report (Test):\")\n",
        "print(classification_report(y_test, y_pred_test))"
      ]
    },
    {
      "cell_type": "markdown",
      "metadata": {
        "id": "2YHn622e2M_w"
      },
      "source": [
        "### After fine-tuning, the model's performance remains similar to before. Test accuracy stayed nearly the same (0.82), with a slight drop in precision for class 1 (from 0.55 to 0.54) and a small improvement in recall (from 0.63 to 0.65). Overall, fine-tuning made minimal impact."
      ]
    }
  ],
  "metadata": {
    "colab": {
      "provenance": []
    },
    "kernelspec": {
      "display_name": "python",
      "language": "python",
      "name": "python3"
    },
    "language_info": {
      "name": "python",
      "version": "3.9.18"
    }
  },
  "nbformat": 4,
  "nbformat_minor": 0
}
