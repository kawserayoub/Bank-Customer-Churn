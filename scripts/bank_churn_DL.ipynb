{
  "cells": [
    {
      "cell_type": "markdown",
      "metadata": {
        "id": "9LQQBsyiMYJm"
      },
      "source": [
        "# Bank Customer Churn - Deep Learning"
      ]
    },
    {
      "cell_type": "code",
      "execution_count": null,
      "metadata": {
        "id": "fHsV0E3J-KjJ"
      },
      "outputs": [],
      "source": [
        "import numpy as np\n",
        "import pandas as pd\n",
        "import matplotlib.pyplot as plt\n",
        "import seaborn as sns\n",
        "import tensorflow\n",
        "\n",
        "from sklearn.metrics import roc_curve, auc\n",
        "from tensorflow import keras\n",
        "from keras import Sequential\n",
        "from keras.layers import Dense,Dropout\n",
        "from sklearn.preprocessing import MinMaxScaler\n",
        "from keras.callbacks import EarlyStopping\n",
        "from imblearn.over_sampling import SMOTE\n",
        "from sklearn.model_selection import train_test_split\n",
        "from sklearn.metrics import classification_report,confusion_matrix"
      ]
    },
    {
      "cell_type": "code",
      "execution_count": null,
      "metadata": {
        "colab": {
          "base_uri": "https://localhost:8080/"
        },
        "id": "CyGXyyke-NHq",
        "outputId": "ecbb60c4-c290-41c8-a521-842b1b28a02a"
      },
      "outputs": [
        {
          "name": "stdout",
          "output_type": "stream",
          "text": [
            "Requirement already satisfied: opendatasets in /usr/local/lib/python3.10/dist-packages (0.1.22)\n",
            "Requirement already satisfied: tqdm in /usr/local/lib/python3.10/dist-packages (from opendatasets) (4.66.5)\n",
            "Requirement already satisfied: kaggle in /usr/local/lib/python3.10/dist-packages (from opendatasets) (1.6.17)\n",
            "Requirement already satisfied: click in /usr/local/lib/python3.10/dist-packages (from opendatasets) (8.1.7)\n",
            "Requirement already satisfied: six>=1.10 in /usr/local/lib/python3.10/dist-packages (from kaggle->opendatasets) (1.16.0)\n",
            "Requirement already satisfied: certifi>=2023.7.22 in /usr/local/lib/python3.10/dist-packages (from kaggle->opendatasets) (2024.8.30)\n",
            "Requirement already satisfied: python-dateutil in /usr/local/lib/python3.10/dist-packages (from kaggle->opendatasets) (2.8.2)\n",
            "Requirement already satisfied: requests in /usr/local/lib/python3.10/dist-packages (from kaggle->opendatasets) (2.32.3)\n",
            "Requirement already satisfied: python-slugify in /usr/local/lib/python3.10/dist-packages (from kaggle->opendatasets) (8.0.4)\n",
            "Requirement already satisfied: urllib3 in /usr/local/lib/python3.10/dist-packages (from kaggle->opendatasets) (2.2.3)\n",
            "Requirement already satisfied: bleach in /usr/local/lib/python3.10/dist-packages (from kaggle->opendatasets) (6.1.0)\n",
            "Requirement already satisfied: webencodings in /usr/local/lib/python3.10/dist-packages (from bleach->kaggle->opendatasets) (0.5.1)\n",
            "Requirement already satisfied: text-unidecode>=1.3 in /usr/local/lib/python3.10/dist-packages (from python-slugify->kaggle->opendatasets) (1.3)\n",
            "Requirement already satisfied: charset-normalizer<4,>=2 in /usr/local/lib/python3.10/dist-packages (from requests->kaggle->opendatasets) (3.3.2)\n",
            "Requirement already satisfied: idna<4,>=2.5 in /usr/local/lib/python3.10/dist-packages (from requests->kaggle->opendatasets) (3.10)\n",
            "Skipping, found downloaded files in \"./bank-customer-churn-dataset\" (use force=True to force download)\n"
          ]
        }
      ],
      "source": [
        "%pip install opendatasets\n",
        "import opendatasets as od\n",
        "\n",
        "#Fetching data from kaggle\n",
        "dataset_url = 'https://www.kaggle.com/datasets/gauravtopre/bank-customer-churn-dataset'\n",
        "\n",
        "od.download(dataset_url)"
      ]
    },
    {
      "cell_type": "code",
      "execution_count": null,
      "metadata": {
        "id": "KB7--gny-SgA"
      },
      "outputs": [],
      "source": [
        "#Load the dataset\n",
        "data = pd.read_csv('bank-customer-churn-dataset/Bank Customer Churn Prediction.csv')"
      ]
    },
    {
      "cell_type": "markdown",
      "metadata": {
        "id": "bKB6ejYfMhcR"
      },
      "source": [
        "# Data Preprocessing"
      ]
    },
    {
      "cell_type": "code",
      "execution_count": null,
      "metadata": {
        "id": "6kyAt04Z-c2d"
      },
      "outputs": [],
      "source": [
        "data.drop(['customer_id'], axis=1, inplace=True)"
      ]
    },
    {
      "cell_type": "code",
      "execution_count": null,
      "metadata": {
        "id": "mSKsKawQ-6Ug"
      },
      "outputs": [],
      "source": [
        "data = pd.get_dummies(data=data,columns=['country','gender'],drop_first=True)"
      ]
    },
    {
      "cell_type": "code",
      "execution_count": null,
      "metadata": {
        "id": "hBTiNYMP_Jm4"
      },
      "outputs": [],
      "source": [
        "cols_to_scale = ['credit_score','balance','estimated_salary']\n",
        "\n",
        "scaler = MinMaxScaler()\n",
        "\n",
        "data[cols_to_scale] = scaler.fit_transform(data[cols_to_scale])"
      ]
    },
    {
      "cell_type": "code",
      "execution_count": null,
      "metadata": {
        "id": "NRXuuUph_Zzn"
      },
      "outputs": [],
      "source": [
        "data[cols_to_scale] = data[cols_to_scale].round(2)"
      ]
    },
    {
      "cell_type": "code",
      "execution_count": null,
      "metadata": {
        "id": "MwPWpL6PAfXA"
      },
      "outputs": [],
      "source": [
        "data.replace([np.inf, -np.inf], np.nan, inplace=True) # Replace infs with NaN\n",
        "data[cols_to_scale] = data[cols_to_scale].fillna(data[cols_to_scale].mean()) #Fill NaN with mean of column"
      ]
    },
    {
      "cell_type": "code",
      "execution_count": null,
      "metadata": {
        "id": "P6QWjXpJ_dbP"
      },
      "outputs": [],
      "source": [
        "data['country_Germany'] = data['country_Germany'].map({False:0,True:1})\n",
        "data['country_Spain'] = data['country_Spain'].map({False:0,True:1})\n",
        "data['gender_Male'] = data['gender_Male'].map({False:0,True:1})"
      ]
    },
    {
      "cell_type": "code",
      "execution_count": null,
      "metadata": {
        "id": "8LMPkByZ__jg"
      },
      "outputs": [],
      "source": [
        "X = data.drop('churn',axis=1)\n",
        "y = data['churn']"
      ]
    },
    {
      "cell_type": "code",
      "execution_count": null,
      "metadata": {
        "id": "1wFatrluAFww"
      },
      "outputs": [],
      "source": [
        "smote = SMOTE(sampling_strategy='auto')\n",
        "\n",
        "X_resample,y_resample = smote.fit_resample(X,y)"
      ]
    },
    {
      "cell_type": "code",
      "execution_count": null,
      "metadata": {
        "colab": {
          "base_uri": "https://localhost:8080/",
          "height": 178
        },
        "id": "M7GhO_qHAG8o",
        "outputId": "225b1b17-33c3-4729-83c7-3e11bff682fe"
      },
      "outputs": [
        {
          "data": {
            "text/html": [
              "<div>\n",
              "<style scoped>\n",
              "    .dataframe tbody tr th:only-of-type {\n",
              "        vertical-align: middle;\n",
              "    }\n",
              "\n",
              "    .dataframe tbody tr th {\n",
              "        vertical-align: top;\n",
              "    }\n",
              "\n",
              "    .dataframe thead th {\n",
              "        text-align: right;\n",
              "    }\n",
              "</style>\n",
              "<table border=\"1\" class=\"dataframe\">\n",
              "  <thead>\n",
              "    <tr style=\"text-align: right;\">\n",
              "      <th></th>\n",
              "      <th>count</th>\n",
              "    </tr>\n",
              "    <tr>\n",
              "      <th>churn</th>\n",
              "      <th></th>\n",
              "    </tr>\n",
              "  </thead>\n",
              "  <tbody>\n",
              "    <tr>\n",
              "      <th>1</th>\n",
              "      <td>7963</td>\n",
              "    </tr>\n",
              "    <tr>\n",
              "      <th>0</th>\n",
              "      <td>7963</td>\n",
              "    </tr>\n",
              "  </tbody>\n",
              "</table>\n",
              "</div><br><label><b>dtype:</b> int64</label>"
            ],
            "text/plain": [
              "churn\n",
              "1    7963\n",
              "0    7963\n",
              "Name: count, dtype: int64"
            ]
          },
          "execution_count": 12,
          "metadata": {},
          "output_type": "execute_result"
        }
      ],
      "source": [
        "y_resample.value_counts()"
      ]
    },
    {
      "cell_type": "markdown",
      "metadata": {
        "id": "3g020VsDMkLj"
      },
      "source": [
        "# Splitting data"
      ]
    },
    {
      "cell_type": "code",
      "execution_count": null,
      "metadata": {
        "id": "KN-VTek6As7A"
      },
      "outputs": [],
      "source": [
        "X_train,X_test,y_train,y_test = train_test_split(X_resample,y_resample,test_size=0.2,random_state=1)"
      ]
    },
    {
      "cell_type": "code",
      "execution_count": null,
      "metadata": {
        "colab": {
          "base_uri": "https://localhost:8080/"
        },
        "id": "OTwdU9q5Au_P",
        "outputId": "dc2ebdb0-684b-4133-beea-f8ae09a15486"
      },
      "outputs": [
        {
          "name": "stdout",
          "output_type": "stream",
          "text": [
            "(12740, 11) (3186,)\n"
          ]
        }
      ],
      "source": [
        "print(X_train.shape, y_test.shape)"
      ]
    },
    {
      "cell_type": "markdown",
      "metadata": {
        "id": "9NYORnLoMnJi"
      },
      "source": [
        "# Model training\n"
      ]
    },
    {
      "cell_type": "code",
      "execution_count": null,
      "metadata": {
        "colab": {
          "base_uri": "https://localhost:8080/"
        },
        "id": "2hvKKg78AwZf",
        "outputId": "09aea83b-41da-4b6a-d1ec-26928d3d3ceb"
      },
      "outputs": [
        {
          "name": "stderr",
          "output_type": "stream",
          "text": [
            "/usr/local/lib/python3.10/dist-packages/keras/src/layers/core/dense.py:87: UserWarning: Do not pass an `input_shape`/`input_dim` argument to a layer. When using Sequential models, prefer using an `Input(shape)` object as the first layer in the model instead.\n",
            "  super().__init__(activity_regularizer=activity_regularizer, **kwargs)\n"
          ]
        }
      ],
      "source": [
        "model = Sequential()\n",
        "\n",
        "model.add(Dense(16,activation='relu',input_dim=X_train.shape[1]))\n",
        "model.add(Dropout(0.1))\n",
        "\n",
        "model.add(Dense(16,activation='relu'))\n",
        "model.add(Dropout(0.1))\n",
        "\n",
        "model.add(Dense(1,activation='sigmoid'))"
      ]
    },
    {
      "cell_type": "code",
      "execution_count": null,
      "metadata": {
        "colab": {
          "base_uri": "https://localhost:8080/",
          "height": 306
        },
        "id": "bWSniI7NA1B4",
        "outputId": "6397f356-04a4-4324-d2f7-f0bf8c523d92"
      },
      "outputs": [
        {
          "data": {
            "text/html": [
              "<pre style=\"white-space:pre;overflow-x:auto;line-height:normal;font-family:Menlo,'DejaVu Sans Mono',consolas,'Courier New',monospace\"><span style=\"font-weight: bold\">Model: \"sequential\"</span>\n",
              "</pre>\n"
            ],
            "text/plain": [
              "\u001b[1mModel: \"sequential\"\u001b[0m\n"
            ]
          },
          "metadata": {},
          "output_type": "display_data"
        },
        {
          "data": {
            "text/html": [
              "<pre style=\"white-space:pre;overflow-x:auto;line-height:normal;font-family:Menlo,'DejaVu Sans Mono',consolas,'Courier New',monospace\">┏━━━━━━━━━━━━━━━━━━━━━━━━━━━━━━━━━━━━━━┳━━━━━━━━━━━━━━━━━━━━━━━━━━━━━┳━━━━━━━━━━━━━━━━━┓\n",
              "┃<span style=\"font-weight: bold\"> Layer (type)                         </span>┃<span style=\"font-weight: bold\"> Output Shape                </span>┃<span style=\"font-weight: bold\">         Param # </span>┃\n",
              "┡━━━━━━━━━━━━━━━━━━━━━━━━━━━━━━━━━━━━━━╇━━━━━━━━━━━━━━━━━━━━━━━━━━━━━╇━━━━━━━━━━━━━━━━━┩\n",
              "│ dense (<span style=\"color: #0087ff; text-decoration-color: #0087ff\">Dense</span>)                        │ (<span style=\"color: #00d7ff; text-decoration-color: #00d7ff\">None</span>, <span style=\"color: #00af00; text-decoration-color: #00af00\">16</span>)                  │             <span style=\"color: #00af00; text-decoration-color: #00af00\">192</span> │\n",
              "├──────────────────────────────────────┼─────────────────────────────┼─────────────────┤\n",
              "│ dropout (<span style=\"color: #0087ff; text-decoration-color: #0087ff\">Dropout</span>)                    │ (<span style=\"color: #00d7ff; text-decoration-color: #00d7ff\">None</span>, <span style=\"color: #00af00; text-decoration-color: #00af00\">16</span>)                  │               <span style=\"color: #00af00; text-decoration-color: #00af00\">0</span> │\n",
              "├──────────────────────────────────────┼─────────────────────────────┼─────────────────┤\n",
              "│ dense_1 (<span style=\"color: #0087ff; text-decoration-color: #0087ff\">Dense</span>)                      │ (<span style=\"color: #00d7ff; text-decoration-color: #00d7ff\">None</span>, <span style=\"color: #00af00; text-decoration-color: #00af00\">16</span>)                  │             <span style=\"color: #00af00; text-decoration-color: #00af00\">272</span> │\n",
              "├──────────────────────────────────────┼─────────────────────────────┼─────────────────┤\n",
              "│ dropout_1 (<span style=\"color: #0087ff; text-decoration-color: #0087ff\">Dropout</span>)                  │ (<span style=\"color: #00d7ff; text-decoration-color: #00d7ff\">None</span>, <span style=\"color: #00af00; text-decoration-color: #00af00\">16</span>)                  │               <span style=\"color: #00af00; text-decoration-color: #00af00\">0</span> │\n",
              "├──────────────────────────────────────┼─────────────────────────────┼─────────────────┤\n",
              "│ dense_2 (<span style=\"color: #0087ff; text-decoration-color: #0087ff\">Dense</span>)                      │ (<span style=\"color: #00d7ff; text-decoration-color: #00d7ff\">None</span>, <span style=\"color: #00af00; text-decoration-color: #00af00\">1</span>)                   │              <span style=\"color: #00af00; text-decoration-color: #00af00\">17</span> │\n",
              "└──────────────────────────────────────┴─────────────────────────────┴─────────────────┘\n",
              "</pre>\n"
            ],
            "text/plain": [
              "┏━━━━━━━━━━━━━━━━━━━━━━━━━━━━━━━━━━━━━━┳━━━━━━━━━━━━━━━━━━━━━━━━━━━━━┳━━━━━━━━━━━━━━━━━┓\n",
              "┃\u001b[1m \u001b[0m\u001b[1mLayer (type)                        \u001b[0m\u001b[1m \u001b[0m┃\u001b[1m \u001b[0m\u001b[1mOutput Shape               \u001b[0m\u001b[1m \u001b[0m┃\u001b[1m \u001b[0m\u001b[1m        Param #\u001b[0m\u001b[1m \u001b[0m┃\n",
              "┡━━━━━━━━━━━━━━━━━━━━━━━━━━━━━━━━━━━━━━╇━━━━━━━━━━━━━━━━━━━━━━━━━━━━━╇━━━━━━━━━━━━━━━━━┩\n",
              "│ dense (\u001b[38;5;33mDense\u001b[0m)                        │ (\u001b[38;5;45mNone\u001b[0m, \u001b[38;5;34m16\u001b[0m)                  │             \u001b[38;5;34m192\u001b[0m │\n",
              "├──────────────────────────────────────┼─────────────────────────────┼─────────────────┤\n",
              "│ dropout (\u001b[38;5;33mDropout\u001b[0m)                    │ (\u001b[38;5;45mNone\u001b[0m, \u001b[38;5;34m16\u001b[0m)                  │               \u001b[38;5;34m0\u001b[0m │\n",
              "├──────────────────────────────────────┼─────────────────────────────┼─────────────────┤\n",
              "│ dense_1 (\u001b[38;5;33mDense\u001b[0m)                      │ (\u001b[38;5;45mNone\u001b[0m, \u001b[38;5;34m16\u001b[0m)                  │             \u001b[38;5;34m272\u001b[0m │\n",
              "├──────────────────────────────────────┼─────────────────────────────┼─────────────────┤\n",
              "│ dropout_1 (\u001b[38;5;33mDropout\u001b[0m)                  │ (\u001b[38;5;45mNone\u001b[0m, \u001b[38;5;34m16\u001b[0m)                  │               \u001b[38;5;34m0\u001b[0m │\n",
              "├──────────────────────────────────────┼─────────────────────────────┼─────────────────┤\n",
              "│ dense_2 (\u001b[38;5;33mDense\u001b[0m)                      │ (\u001b[38;5;45mNone\u001b[0m, \u001b[38;5;34m1\u001b[0m)                   │              \u001b[38;5;34m17\u001b[0m │\n",
              "└──────────────────────────────────────┴─────────────────────────────┴─────────────────┘\n"
            ]
          },
          "metadata": {},
          "output_type": "display_data"
        },
        {
          "data": {
            "text/html": [
              "<pre style=\"white-space:pre;overflow-x:auto;line-height:normal;font-family:Menlo,'DejaVu Sans Mono',consolas,'Courier New',monospace\"><span style=\"font-weight: bold\"> Total params: </span><span style=\"color: #00af00; text-decoration-color: #00af00\">481</span> (1.88 KB)\n",
              "</pre>\n"
            ],
            "text/plain": [
              "\u001b[1m Total params: \u001b[0m\u001b[38;5;34m481\u001b[0m (1.88 KB)\n"
            ]
          },
          "metadata": {},
          "output_type": "display_data"
        },
        {
          "data": {
            "text/html": [
              "<pre style=\"white-space:pre;overflow-x:auto;line-height:normal;font-family:Menlo,'DejaVu Sans Mono',consolas,'Courier New',monospace\"><span style=\"font-weight: bold\"> Trainable params: </span><span style=\"color: #00af00; text-decoration-color: #00af00\">481</span> (1.88 KB)\n",
              "</pre>\n"
            ],
            "text/plain": [
              "\u001b[1m Trainable params: \u001b[0m\u001b[38;5;34m481\u001b[0m (1.88 KB)\n"
            ]
          },
          "metadata": {},
          "output_type": "display_data"
        },
        {
          "data": {
            "text/html": [
              "<pre style=\"white-space:pre;overflow-x:auto;line-height:normal;font-family:Menlo,'DejaVu Sans Mono',consolas,'Courier New',monospace\"><span style=\"font-weight: bold\"> Non-trainable params: </span><span style=\"color: #00af00; text-decoration-color: #00af00\">0</span> (0.00 B)\n",
              "</pre>\n"
            ],
            "text/plain": [
              "\u001b[1m Non-trainable params: \u001b[0m\u001b[38;5;34m0\u001b[0m (0.00 B)\n"
            ]
          },
          "metadata": {},
          "output_type": "display_data"
        }
      ],
      "source": [
        "model.summary()"
      ]
    },
    {
      "cell_type": "code",
      "execution_count": null,
      "metadata": {
        "id": "vbNv0Y2YA1bX"
      },
      "outputs": [],
      "source": [
        "model.compile(loss='binary_crossentropy',optimizer='adam',metrics=['accuracy'])"
      ]
    },
    {
      "cell_type": "code",
      "execution_count": null,
      "metadata": {
        "colab": {
          "base_uri": "https://localhost:8080/"
        },
        "id": "luPHsQQbA5Pv",
        "outputId": "28ef7013-4426-4640-e340-b5f5a37350e4"
      },
      "outputs": [
        {
          "name": "stdout",
          "output_type": "stream",
          "text": [
            "Epoch 1/200\n",
            "\u001b[1m319/319\u001b[0m \u001b[32m━━━━━━━━━━━━━━━━━━━━\u001b[0m\u001b[37m\u001b[0m \u001b[1m5s\u001b[0m 8ms/step - accuracy: 0.5288 - loss: 2.1616 - val_accuracy: 0.6644 - val_loss: 0.6180\n",
            "Epoch 2/200\n",
            "\u001b[1m319/319\u001b[0m \u001b[32m━━━━━━━━━━━━━━━━━━━━\u001b[0m\u001b[37m\u001b[0m \u001b[1m5s\u001b[0m 7ms/step - accuracy: 0.6084 - loss: 0.7070 - val_accuracy: 0.7013 - val_loss: 0.5824\n",
            "Epoch 3/200\n",
            "\u001b[1m319/319\u001b[0m \u001b[32m━━━━━━━━━━━━━━━━━━━━\u001b[0m\u001b[37m\u001b[0m \u001b[1m2s\u001b[0m 4ms/step - accuracy: 0.6732 - loss: 0.6146 - val_accuracy: 0.7182 - val_loss: 0.5559\n",
            "Epoch 4/200\n",
            "\u001b[1m319/319\u001b[0m \u001b[32m━━━━━━━━━━━━━━━━━━━━\u001b[0m\u001b[37m\u001b[0m \u001b[1m2s\u001b[0m 5ms/step - accuracy: 0.6924 - loss: 0.5814 - val_accuracy: 0.7253 - val_loss: 0.5479\n",
            "Epoch 5/200\n",
            "\u001b[1m319/319\u001b[0m \u001b[32m━━━━━━━━━━━━━━━━━━━━\u001b[0m\u001b[37m\u001b[0m \u001b[1m2s\u001b[0m 5ms/step - accuracy: 0.6996 - loss: 0.5699 - val_accuracy: 0.7280 - val_loss: 0.5407\n",
            "Epoch 6/200\n",
            "\u001b[1m319/319\u001b[0m \u001b[32m━━━━━━━━━━━━━━━━━━━━\u001b[0m\u001b[37m\u001b[0m \u001b[1m3s\u001b[0m 5ms/step - accuracy: 0.7175 - loss: 0.5595 - val_accuracy: 0.7276 - val_loss: 0.5436\n",
            "Epoch 7/200\n",
            "\u001b[1m319/319\u001b[0m \u001b[32m━━━━━━━━━━━━━━━━━━━━\u001b[0m\u001b[37m\u001b[0m \u001b[1m4s\u001b[0m 10ms/step - accuracy: 0.7136 - loss: 0.5628 - val_accuracy: 0.7394 - val_loss: 0.5429\n",
            "Epoch 8/200\n",
            "\u001b[1m319/319\u001b[0m \u001b[32m━━━━━━━━━━━━━━━━━━━━\u001b[0m\u001b[37m\u001b[0m \u001b[1m3s\u001b[0m 10ms/step - accuracy: 0.7176 - loss: 0.5557 - val_accuracy: 0.7414 - val_loss: 0.5371\n",
            "Epoch 9/200\n",
            "\u001b[1m319/319\u001b[0m \u001b[32m━━━━━━━━━━━━━━━━━━━━\u001b[0m\u001b[37m\u001b[0m \u001b[1m2s\u001b[0m 5ms/step - accuracy: 0.7228 - loss: 0.5486 - val_accuracy: 0.7370 - val_loss: 0.5329\n",
            "Epoch 10/200\n",
            "\u001b[1m319/319\u001b[0m \u001b[32m━━━━━━━━━━━━━━━━━━━━\u001b[0m\u001b[37m\u001b[0m \u001b[1m2s\u001b[0m 6ms/step - accuracy: 0.7266 - loss: 0.5466 - val_accuracy: 0.7382 - val_loss: 0.5315\n",
            "Epoch 11/200\n",
            "\u001b[1m319/319\u001b[0m \u001b[32m━━━━━━━━━━━━━━━━━━━━\u001b[0m\u001b[37m\u001b[0m \u001b[1m2s\u001b[0m 5ms/step - accuracy: 0.7297 - loss: 0.5420 - val_accuracy: 0.7461 - val_loss: 0.5301\n",
            "Epoch 12/200\n",
            "\u001b[1m319/319\u001b[0m \u001b[32m━━━━━━━━━━━━━━━━━━━━\u001b[0m\u001b[37m\u001b[0m \u001b[1m2s\u001b[0m 6ms/step - accuracy: 0.7302 - loss: 0.5400 - val_accuracy: 0.7465 - val_loss: 0.5260\n",
            "Epoch 13/200\n",
            "\u001b[1m319/319\u001b[0m \u001b[32m━━━━━━━━━━━━━━━━━━━━\u001b[0m\u001b[37m\u001b[0m \u001b[1m4s\u001b[0m 10ms/step - accuracy: 0.7295 - loss: 0.5439 - val_accuracy: 0.7445 - val_loss: 0.5230\n",
            "Epoch 14/200\n",
            "\u001b[1m319/319\u001b[0m \u001b[32m━━━━━━━━━━━━━━━━━━━━\u001b[0m\u001b[37m\u001b[0m \u001b[1m2s\u001b[0m 7ms/step - accuracy: 0.7321 - loss: 0.5441 - val_accuracy: 0.7441 - val_loss: 0.5232\n",
            "Epoch 15/200\n",
            "\u001b[1m319/319\u001b[0m \u001b[32m━━━━━━━━━━━━━━━━━━━━\u001b[0m\u001b[37m\u001b[0m \u001b[1m1s\u001b[0m 2ms/step - accuracy: 0.7275 - loss: 0.5436 - val_accuracy: 0.7374 - val_loss: 0.5326\n",
            "Epoch 16/200\n",
            "\u001b[1m319/319\u001b[0m \u001b[32m━━━━━━━━━━━━━━━━━━━━\u001b[0m\u001b[37m\u001b[0m \u001b[1m1s\u001b[0m 2ms/step - accuracy: 0.7277 - loss: 0.5437 - val_accuracy: 0.7437 - val_loss: 0.5229\n",
            "Epoch 17/200\n",
            "\u001b[1m319/319\u001b[0m \u001b[32m━━━━━━━━━━━━━━━━━━━━\u001b[0m\u001b[37m\u001b[0m \u001b[1m1s\u001b[0m 2ms/step - accuracy: 0.7329 - loss: 0.5365 - val_accuracy: 0.7370 - val_loss: 0.5241\n",
            "Epoch 18/200\n",
            "\u001b[1m319/319\u001b[0m \u001b[32m━━━━━━━━━━━━━━━━━━━━\u001b[0m\u001b[37m\u001b[0m \u001b[1m1s\u001b[0m 2ms/step - accuracy: 0.7399 - loss: 0.5313 - val_accuracy: 0.7398 - val_loss: 0.5244\n",
            "Epoch 19/200\n",
            "\u001b[1m319/319\u001b[0m \u001b[32m━━━━━━━━━━━━━━━━━━━━\u001b[0m\u001b[37m\u001b[0m \u001b[1m1s\u001b[0m 2ms/step - accuracy: 0.7379 - loss: 0.5324 - val_accuracy: 0.7480 - val_loss: 0.5143\n",
            "Epoch 20/200\n",
            "\u001b[1m319/319\u001b[0m \u001b[32m━━━━━━━━━━━━━━━━━━━━\u001b[0m\u001b[37m\u001b[0m \u001b[1m1s\u001b[0m 2ms/step - accuracy: 0.7418 - loss: 0.5301 - val_accuracy: 0.7504 - val_loss: 0.5136\n",
            "Epoch 21/200\n",
            "\u001b[1m319/319\u001b[0m \u001b[32m━━━━━━━━━━━━━━━━━━━━\u001b[0m\u001b[37m\u001b[0m \u001b[1m1s\u001b[0m 2ms/step - accuracy: 0.7396 - loss: 0.5264 - val_accuracy: 0.7512 - val_loss: 0.5131\n",
            "Epoch 22/200\n",
            "\u001b[1m319/319\u001b[0m \u001b[32m━━━━━━━━━━━━━━━━━━━━\u001b[0m\u001b[37m\u001b[0m \u001b[1m1s\u001b[0m 2ms/step - accuracy: 0.7340 - loss: 0.5269 - val_accuracy: 0.7433 - val_loss: 0.5170\n",
            "Epoch 23/200\n",
            "\u001b[1m319/319\u001b[0m \u001b[32m━━━━━━━━━━━━━━━━━━━━\u001b[0m\u001b[37m\u001b[0m \u001b[1m1s\u001b[0m 3ms/step - accuracy: 0.7353 - loss: 0.5273 - val_accuracy: 0.7429 - val_loss: 0.5117\n",
            "Epoch 24/200\n",
            "\u001b[1m319/319\u001b[0m \u001b[32m━━━━━━━━━━━━━━━━━━━━\u001b[0m\u001b[37m\u001b[0m \u001b[1m1s\u001b[0m 3ms/step - accuracy: 0.7402 - loss: 0.5296 - val_accuracy: 0.7524 - val_loss: 0.5090\n",
            "Epoch 25/200\n",
            "\u001b[1m319/319\u001b[0m \u001b[32m━━━━━━━━━━━━━━━━━━━━\u001b[0m\u001b[37m\u001b[0m \u001b[1m1s\u001b[0m 4ms/step - accuracy: 0.7395 - loss: 0.5219 - val_accuracy: 0.7359 - val_loss: 0.5128\n",
            "Epoch 26/200\n",
            "\u001b[1m319/319\u001b[0m \u001b[32m━━━━━━━━━━━━━━━━━━━━\u001b[0m\u001b[37m\u001b[0m \u001b[1m1s\u001b[0m 2ms/step - accuracy: 0.7384 - loss: 0.5275 - val_accuracy: 0.7516 - val_loss: 0.5048\n",
            "Epoch 27/200\n",
            "\u001b[1m319/319\u001b[0m \u001b[32m━━━━━━━━━━━━━━━━━━━━\u001b[0m\u001b[37m\u001b[0m \u001b[1m1s\u001b[0m 2ms/step - accuracy: 0.7383 - loss: 0.5154 - val_accuracy: 0.7418 - val_loss: 0.5054\n",
            "Epoch 28/200\n",
            "\u001b[1m319/319\u001b[0m \u001b[32m━━━━━━━━━━━━━━━━━━━━\u001b[0m\u001b[37m\u001b[0m \u001b[1m1s\u001b[0m 2ms/step - accuracy: 0.7393 - loss: 0.5204 - val_accuracy: 0.7480 - val_loss: 0.5034\n",
            "Epoch 29/200\n",
            "\u001b[1m319/319\u001b[0m \u001b[32m━━━━━━━━━━━━━━━━━━━━\u001b[0m\u001b[37m\u001b[0m \u001b[1m1s\u001b[0m 3ms/step - accuracy: 0.7420 - loss: 0.5230 - val_accuracy: 0.7563 - val_loss: 0.5025\n",
            "Epoch 30/200\n",
            "\u001b[1m319/319\u001b[0m \u001b[32m━━━━━━━━━━━━━━━━━━━━\u001b[0m\u001b[37m\u001b[0m \u001b[1m1s\u001b[0m 2ms/step - accuracy: 0.7400 - loss: 0.5179 - val_accuracy: 0.7484 - val_loss: 0.5014\n",
            "Epoch 31/200\n",
            "\u001b[1m319/319\u001b[0m \u001b[32m━━━━━━━━━━━━━━━━━━━━\u001b[0m\u001b[37m\u001b[0m \u001b[1m1s\u001b[0m 4ms/step - accuracy: 0.7502 - loss: 0.5052 - val_accuracy: 0.7520 - val_loss: 0.5012\n",
            "Epoch 32/200\n",
            "\u001b[1m319/319\u001b[0m \u001b[32m━━━━━━━━━━━━━━━━━━━━\u001b[0m\u001b[37m\u001b[0m \u001b[1m2s\u001b[0m 2ms/step - accuracy: 0.7466 - loss: 0.5095 - val_accuracy: 0.7551 - val_loss: 0.4976\n",
            "Epoch 33/200\n",
            "\u001b[1m319/319\u001b[0m \u001b[32m━━━━━━━━━━━━━━━━━━━━\u001b[0m\u001b[37m\u001b[0m \u001b[1m1s\u001b[0m 2ms/step - accuracy: 0.7393 - loss: 0.5230 - val_accuracy: 0.7394 - val_loss: 0.5014\n",
            "Epoch 34/200\n",
            "\u001b[1m319/319\u001b[0m \u001b[32m━━━━━━━━━━━━━━━━━━━━\u001b[0m\u001b[37m\u001b[0m \u001b[1m2s\u001b[0m 3ms/step - accuracy: 0.7383 - loss: 0.5086 - val_accuracy: 0.7630 - val_loss: 0.4942\n",
            "Epoch 35/200\n",
            "\u001b[1m319/319\u001b[0m \u001b[32m━━━━━━━━━━━━━━━━━━━━\u001b[0m\u001b[37m\u001b[0m \u001b[1m1s\u001b[0m 4ms/step - accuracy: 0.7507 - loss: 0.5120 - val_accuracy: 0.7398 - val_loss: 0.5094\n",
            "Epoch 36/200\n",
            "\u001b[1m319/319\u001b[0m \u001b[32m━━━━━━━━━━━━━━━━━━━━\u001b[0m\u001b[37m\u001b[0m \u001b[1m1s\u001b[0m 4ms/step - accuracy: 0.7440 - loss: 0.5067 - val_accuracy: 0.7606 - val_loss: 0.4923\n",
            "Epoch 37/200\n",
            "\u001b[1m319/319\u001b[0m \u001b[32m━━━━━━━━━━━━━━━━━━━━\u001b[0m\u001b[37m\u001b[0m \u001b[1m1s\u001b[0m 3ms/step - accuracy: 0.7442 - loss: 0.5045 - val_accuracy: 0.7641 - val_loss: 0.4902\n",
            "Epoch 38/200\n",
            "\u001b[1m319/319\u001b[0m \u001b[32m━━━━━━━━━━━━━━━━━━━━\u001b[0m\u001b[37m\u001b[0m \u001b[1m1s\u001b[0m 2ms/step - accuracy: 0.7551 - loss: 0.5001 - val_accuracy: 0.7563 - val_loss: 0.4930\n",
            "Epoch 39/200\n",
            "\u001b[1m319/319\u001b[0m \u001b[32m━━━━━━━━━━━━━━━━━━━━\u001b[0m\u001b[37m\u001b[0m \u001b[1m1s\u001b[0m 2ms/step - accuracy: 0.7529 - loss: 0.4960 - val_accuracy: 0.7622 - val_loss: 0.4912\n",
            "Epoch 40/200\n",
            "\u001b[1m319/319\u001b[0m \u001b[32m━━━━━━━━━━━━━━━━━━━━\u001b[0m\u001b[37m\u001b[0m \u001b[1m1s\u001b[0m 2ms/step - accuracy: 0.7503 - loss: 0.5036 - val_accuracy: 0.7649 - val_loss: 0.4867\n",
            "Epoch 41/200\n",
            "\u001b[1m319/319\u001b[0m \u001b[32m━━━━━━━━━━━━━━━━━━━━\u001b[0m\u001b[37m\u001b[0m \u001b[1m1s\u001b[0m 2ms/step - accuracy: 0.7554 - loss: 0.5004 - val_accuracy: 0.7567 - val_loss: 0.4872\n",
            "Epoch 42/200\n",
            "\u001b[1m319/319\u001b[0m \u001b[32m━━━━━━━━━━━━━━━━━━━━\u001b[0m\u001b[37m\u001b[0m \u001b[1m1s\u001b[0m 2ms/step - accuracy: 0.7574 - loss: 0.4913 - val_accuracy: 0.7755 - val_loss: 0.4863\n",
            "Epoch 43/200\n",
            "\u001b[1m319/319\u001b[0m \u001b[32m━━━━━━━━━━━━━━━━━━━━\u001b[0m\u001b[37m\u001b[0m \u001b[1m1s\u001b[0m 2ms/step - accuracy: 0.7521 - loss: 0.4969 - val_accuracy: 0.7673 - val_loss: 0.4790\n",
            "Epoch 44/200\n",
            "\u001b[1m319/319\u001b[0m \u001b[32m━━━━━━━━━━━━━━━━━━━━\u001b[0m\u001b[37m\u001b[0m \u001b[1m1s\u001b[0m 2ms/step - accuracy: 0.7622 - loss: 0.4936 - val_accuracy: 0.7653 - val_loss: 0.4773\n",
            "Epoch 45/200\n",
            "\u001b[1m319/319\u001b[0m \u001b[32m━━━━━━━━━━━━━━━━━━━━\u001b[0m\u001b[37m\u001b[0m \u001b[1m1s\u001b[0m 2ms/step - accuracy: 0.7527 - loss: 0.4945 - val_accuracy: 0.7743 - val_loss: 0.4780\n",
            "Epoch 46/200\n",
            "\u001b[1m319/319\u001b[0m \u001b[32m━━━━━━━━━━━━━━━━━━━━\u001b[0m\u001b[37m\u001b[0m \u001b[1m2s\u001b[0m 3ms/step - accuracy: 0.7581 - loss: 0.4930 - val_accuracy: 0.7735 - val_loss: 0.4799\n",
            "Epoch 47/200\n",
            "\u001b[1m319/319\u001b[0m \u001b[32m━━━━━━━━━━━━━━━━━━━━\u001b[0m\u001b[37m\u001b[0m \u001b[1m1s\u001b[0m 4ms/step - accuracy: 0.7566 - loss: 0.4907 - val_accuracy: 0.7841 - val_loss: 0.4724\n",
            "Epoch 48/200\n",
            "\u001b[1m319/319\u001b[0m \u001b[32m━━━━━━━━━━━━━━━━━━━━\u001b[0m\u001b[37m\u001b[0m \u001b[1m1s\u001b[0m 4ms/step - accuracy: 0.7649 - loss: 0.4834 - val_accuracy: 0.7841 - val_loss: 0.4734\n",
            "Epoch 49/200\n",
            "\u001b[1m319/319\u001b[0m \u001b[32m━━━━━━━━━━━━━━━━━━━━\u001b[0m\u001b[37m\u001b[0m \u001b[1m2s\u001b[0m 3ms/step - accuracy: 0.7582 - loss: 0.4920 - val_accuracy: 0.7877 - val_loss: 0.4664\n",
            "Epoch 50/200\n",
            "\u001b[1m319/319\u001b[0m \u001b[32m━━━━━━━━━━━━━━━━━━━━\u001b[0m\u001b[37m\u001b[0m \u001b[1m1s\u001b[0m 2ms/step - accuracy: 0.7684 - loss: 0.4871 - val_accuracy: 0.7767 - val_loss: 0.4655\n",
            "Epoch 51/200\n",
            "\u001b[1m319/319\u001b[0m \u001b[32m━━━━━━━━━━━━━━━━━━━━\u001b[0m\u001b[37m\u001b[0m \u001b[1m1s\u001b[0m 3ms/step - accuracy: 0.7649 - loss: 0.4847 - val_accuracy: 0.7771 - val_loss: 0.4708\n",
            "Epoch 52/200\n",
            "\u001b[1m319/319\u001b[0m \u001b[32m━━━━━━━━━━━━━━━━━━━━\u001b[0m\u001b[37m\u001b[0m \u001b[1m1s\u001b[0m 2ms/step - accuracy: 0.7643 - loss: 0.4900 - val_accuracy: 0.7881 - val_loss: 0.4603\n",
            "Epoch 53/200\n",
            "\u001b[1m319/319\u001b[0m \u001b[32m━━━━━━━━━━━━━━━━━━━━\u001b[0m\u001b[37m\u001b[0m \u001b[1m1s\u001b[0m 2ms/step - accuracy: 0.7679 - loss: 0.4836 - val_accuracy: 0.7912 - val_loss: 0.4601\n",
            "Epoch 54/200\n",
            "\u001b[1m319/319\u001b[0m \u001b[32m━━━━━━━━━━━━━━━━━━━━\u001b[0m\u001b[37m\u001b[0m \u001b[1m1s\u001b[0m 3ms/step - accuracy: 0.7633 - loss: 0.4798 - val_accuracy: 0.7857 - val_loss: 0.4602\n",
            "Epoch 55/200\n",
            "\u001b[1m319/319\u001b[0m \u001b[32m━━━━━━━━━━━━━━━━━━━━\u001b[0m\u001b[37m\u001b[0m \u001b[1m1s\u001b[0m 3ms/step - accuracy: 0.7651 - loss: 0.4750 - val_accuracy: 0.7916 - val_loss: 0.4541\n",
            "Epoch 56/200\n",
            "\u001b[1m319/319\u001b[0m \u001b[32m━━━━━━━━━━━━━━━━━━━━\u001b[0m\u001b[37m\u001b[0m \u001b[1m1s\u001b[0m 2ms/step - accuracy: 0.7650 - loss: 0.4816 - val_accuracy: 0.7943 - val_loss: 0.4512\n",
            "Epoch 57/200\n",
            "\u001b[1m319/319\u001b[0m \u001b[32m━━━━━━━━━━━━━━━━━━━━\u001b[0m\u001b[37m\u001b[0m \u001b[1m2s\u001b[0m 3ms/step - accuracy: 0.7635 - loss: 0.4754 - val_accuracy: 0.7900 - val_loss: 0.4533\n",
            "Epoch 58/200\n",
            "\u001b[1m319/319\u001b[0m \u001b[32m━━━━━━━━━━━━━━━━━━━━\u001b[0m\u001b[37m\u001b[0m \u001b[1m2s\u001b[0m 4ms/step - accuracy: 0.7698 - loss: 0.4728 - val_accuracy: 0.7951 - val_loss: 0.4506\n",
            "Epoch 59/200\n",
            "\u001b[1m319/319\u001b[0m \u001b[32m━━━━━━━━━━━━━━━━━━━━\u001b[0m\u001b[37m\u001b[0m \u001b[1m2s\u001b[0m 3ms/step - accuracy: 0.7696 - loss: 0.4731 - val_accuracy: 0.7916 - val_loss: 0.4526\n",
            "Epoch 60/200\n",
            "\u001b[1m319/319\u001b[0m \u001b[32m━━━━━━━━━━━━━━━━━━━━\u001b[0m\u001b[37m\u001b[0m \u001b[1m1s\u001b[0m 2ms/step - accuracy: 0.7752 - loss: 0.4673 - val_accuracy: 0.7943 - val_loss: 0.4582\n",
            "Epoch 61/200\n",
            "\u001b[1m319/319\u001b[0m \u001b[32m━━━━━━━━━━━━━━━━━━━━\u001b[0m\u001b[37m\u001b[0m \u001b[1m1s\u001b[0m 3ms/step - accuracy: 0.7643 - loss: 0.4788 - val_accuracy: 0.7908 - val_loss: 0.4434\n",
            "Epoch 62/200\n",
            "\u001b[1m319/319\u001b[0m \u001b[32m━━━━━━━━━━━━━━━━━━━━\u001b[0m\u001b[37m\u001b[0m \u001b[1m1s\u001b[0m 2ms/step - accuracy: 0.7804 - loss: 0.4582 - val_accuracy: 0.7928 - val_loss: 0.4488\n",
            "Epoch 63/200\n",
            "\u001b[1m319/319\u001b[0m \u001b[32m━━━━━━━━━━━━━━━━━━━━\u001b[0m\u001b[37m\u001b[0m \u001b[1m1s\u001b[0m 2ms/step - accuracy: 0.7675 - loss: 0.4754 - val_accuracy: 0.7932 - val_loss: 0.4415\n",
            "Epoch 64/200\n",
            "\u001b[1m319/319\u001b[0m \u001b[32m━━━━━━━━━━━━━━━━━━━━\u001b[0m\u001b[37m\u001b[0m \u001b[1m1s\u001b[0m 2ms/step - accuracy: 0.7743 - loss: 0.4585 - val_accuracy: 0.7967 - val_loss: 0.4403\n",
            "Epoch 65/200\n",
            "\u001b[1m319/319\u001b[0m \u001b[32m━━━━━━━━━━━━━━━━━━━━\u001b[0m\u001b[37m\u001b[0m \u001b[1m1s\u001b[0m 2ms/step - accuracy: 0.7744 - loss: 0.4632 - val_accuracy: 0.7987 - val_loss: 0.4346\n",
            "Epoch 66/200\n",
            "\u001b[1m319/319\u001b[0m \u001b[32m━━━━━━━━━━━━━━━━━━━━\u001b[0m\u001b[37m\u001b[0m \u001b[1m1s\u001b[0m 3ms/step - accuracy: 0.7725 - loss: 0.4592 - val_accuracy: 0.7975 - val_loss: 0.4338\n",
            "Epoch 67/200\n",
            "\u001b[1m319/319\u001b[0m \u001b[32m━━━━━━━━━━━━━━━━━━━━\u001b[0m\u001b[37m\u001b[0m \u001b[1m1s\u001b[0m 3ms/step - accuracy: 0.7839 - loss: 0.4523 - val_accuracy: 0.7794 - val_loss: 0.4494\n",
            "Epoch 68/200\n",
            "\u001b[1m319/319\u001b[0m \u001b[32m━━━━━━━━━━━━━━━━━━━━\u001b[0m\u001b[37m\u001b[0m \u001b[1m1s\u001b[0m 4ms/step - accuracy: 0.7735 - loss: 0.4613 - val_accuracy: 0.7979 - val_loss: 0.4430\n",
            "Epoch 69/200\n",
            "\u001b[1m319/319\u001b[0m \u001b[32m━━━━━━━━━━━━━━━━━━━━\u001b[0m\u001b[37m\u001b[0m \u001b[1m1s\u001b[0m 3ms/step - accuracy: 0.7751 - loss: 0.4601 - val_accuracy: 0.7920 - val_loss: 0.4409\n",
            "Epoch 70/200\n",
            "\u001b[1m319/319\u001b[0m \u001b[32m━━━━━━━━━━━━━━━━━━━━\u001b[0m\u001b[37m\u001b[0m \u001b[1m1s\u001b[0m 2ms/step - accuracy: 0.7706 - loss: 0.4604 - val_accuracy: 0.7947 - val_loss: 0.4407\n",
            "Epoch 71/200\n",
            "\u001b[1m319/319\u001b[0m \u001b[32m━━━━━━━━━━━━━━━━━━━━\u001b[0m\u001b[37m\u001b[0m \u001b[1m1s\u001b[0m 3ms/step - accuracy: 0.7790 - loss: 0.4487 - val_accuracy: 0.7940 - val_loss: 0.4391\n",
            "Epoch 72/200\n",
            "\u001b[1m319/319\u001b[0m \u001b[32m━━━━━━━━━━━━━━━━━━━━\u001b[0m\u001b[37m\u001b[0m \u001b[1m1s\u001b[0m 2ms/step - accuracy: 0.7784 - loss: 0.4602 - val_accuracy: 0.7967 - val_loss: 0.4344\n",
            "Epoch 73/200\n",
            "\u001b[1m319/319\u001b[0m \u001b[32m━━━━━━━━━━━━━━━━━━━━\u001b[0m\u001b[37m\u001b[0m \u001b[1m1s\u001b[0m 2ms/step - accuracy: 0.7796 - loss: 0.4605 - val_accuracy: 0.8006 - val_loss: 0.4306\n",
            "Epoch 74/200\n",
            "\u001b[1m319/319\u001b[0m \u001b[32m━━━━━━━━━━━━━━━━━━━━\u001b[0m\u001b[37m\u001b[0m \u001b[1m1s\u001b[0m 2ms/step - accuracy: 0.7808 - loss: 0.4534 - val_accuracy: 0.7947 - val_loss: 0.4373\n",
            "Epoch 75/200\n",
            "\u001b[1m319/319\u001b[0m \u001b[32m━━━━━━━━━━━━━━━━━━━━\u001b[0m\u001b[37m\u001b[0m \u001b[1m1s\u001b[0m 3ms/step - accuracy: 0.7796 - loss: 0.4504 - val_accuracy: 0.8053 - val_loss: 0.4295\n",
            "Epoch 76/200\n",
            "\u001b[1m319/319\u001b[0m \u001b[32m━━━━━━━━━━━━━━━━━━━━\u001b[0m\u001b[37m\u001b[0m \u001b[1m1s\u001b[0m 3ms/step - accuracy: 0.7742 - loss: 0.4610 - val_accuracy: 0.8034 - val_loss: 0.4273\n",
            "Epoch 77/200\n",
            "\u001b[1m319/319\u001b[0m \u001b[32m━━━━━━━━━━━━━━━━━━━━\u001b[0m\u001b[37m\u001b[0m \u001b[1m1s\u001b[0m 3ms/step - accuracy: 0.7698 - loss: 0.4639 - val_accuracy: 0.8038 - val_loss: 0.4357\n",
            "Epoch 78/200\n",
            "\u001b[1m319/319\u001b[0m \u001b[32m━━━━━━━━━━━━━━━━━━━━\u001b[0m\u001b[37m\u001b[0m \u001b[1m2s\u001b[0m 4ms/step - accuracy: 0.7782 - loss: 0.4517 - val_accuracy: 0.8026 - val_loss: 0.4311\n",
            "Epoch 79/200\n",
            "\u001b[1m319/319\u001b[0m \u001b[32m━━━━━━━━━━━━━━━━━━━━\u001b[0m\u001b[37m\u001b[0m \u001b[1m1s\u001b[0m 4ms/step - accuracy: 0.7759 - loss: 0.4542 - val_accuracy: 0.7943 - val_loss: 0.4352\n",
            "Epoch 80/200\n",
            "\u001b[1m319/319\u001b[0m \u001b[32m━━━━━━━━━━━━━━━━━━━━\u001b[0m\u001b[37m\u001b[0m \u001b[1m2s\u001b[0m 3ms/step - accuracy: 0.7753 - loss: 0.4575 - val_accuracy: 0.8018 - val_loss: 0.4327\n",
            "Epoch 81/200\n",
            "\u001b[1m319/319\u001b[0m \u001b[32m━━━━━━━━━━━━━━━━━━━━\u001b[0m\u001b[37m\u001b[0m \u001b[1m1s\u001b[0m 3ms/step - accuracy: 0.7794 - loss: 0.4552 - val_accuracy: 0.7971 - val_loss: 0.4379\n",
            "Epoch 82/200\n",
            "\u001b[1m319/319\u001b[0m \u001b[32m━━━━━━━━━━━━━━━━━━━━\u001b[0m\u001b[37m\u001b[0m \u001b[1m1s\u001b[0m 2ms/step - accuracy: 0.7765 - loss: 0.4533 - val_accuracy: 0.7967 - val_loss: 0.4296\n",
            "Epoch 83/200\n",
            "\u001b[1m319/319\u001b[0m \u001b[32m━━━━━━━━━━━━━━━━━━━━\u001b[0m\u001b[37m\u001b[0m \u001b[1m1s\u001b[0m 2ms/step - accuracy: 0.7793 - loss: 0.4569 - val_accuracy: 0.8073 - val_loss: 0.4244\n",
            "Epoch 84/200\n",
            "\u001b[1m319/319\u001b[0m \u001b[32m━━━━━━━━━━━━━━━━━━━━\u001b[0m\u001b[37m\u001b[0m \u001b[1m1s\u001b[0m 2ms/step - accuracy: 0.7847 - loss: 0.4471 - val_accuracy: 0.7979 - val_loss: 0.4289\n",
            "Epoch 85/200\n",
            "\u001b[1m319/319\u001b[0m \u001b[32m━━━━━━━━━━━━━━━━━━━━\u001b[0m\u001b[37m\u001b[0m \u001b[1m1s\u001b[0m 2ms/step - accuracy: 0.7781 - loss: 0.4502 - val_accuracy: 0.7967 - val_loss: 0.4270\n",
            "Epoch 86/200\n",
            "\u001b[1m319/319\u001b[0m \u001b[32m━━━━━━━━━━━━━━━━━━━━\u001b[0m\u001b[37m\u001b[0m \u001b[1m1s\u001b[0m 3ms/step - accuracy: 0.7767 - loss: 0.4564 - val_accuracy: 0.8093 - val_loss: 0.4300\n",
            "Epoch 87/200\n",
            "\u001b[1m319/319\u001b[0m \u001b[32m━━━━━━━━━━━━━━━━━━━━\u001b[0m\u001b[37m\u001b[0m \u001b[1m1s\u001b[0m 2ms/step - accuracy: 0.7801 - loss: 0.4494 - val_accuracy: 0.8089 - val_loss: 0.4253\n",
            "Epoch 88/200\n",
            "\u001b[1m319/319\u001b[0m \u001b[32m━━━━━━━━━━━━━━━━━━━━\u001b[0m\u001b[37m\u001b[0m \u001b[1m1s\u001b[0m 2ms/step - accuracy: 0.7823 - loss: 0.4455 - val_accuracy: 0.7959 - val_loss: 0.4369\n",
            "Epoch 89/200\n",
            "\u001b[1m319/319\u001b[0m \u001b[32m━━━━━━━━━━━━━━━━━━━━\u001b[0m\u001b[37m\u001b[0m \u001b[1m2s\u001b[0m 4ms/step - accuracy: 0.7820 - loss: 0.4485 - val_accuracy: 0.8038 - val_loss: 0.4276\n",
            "Epoch 90/200\n",
            "\u001b[1m319/319\u001b[0m \u001b[32m━━━━━━━━━━━━━━━━━━━━\u001b[0m\u001b[37m\u001b[0m \u001b[1m1s\u001b[0m 4ms/step - accuracy: 0.7787 - loss: 0.4585 - val_accuracy: 0.7963 - val_loss: 0.4294\n",
            "Epoch 91/200\n",
            "\u001b[1m319/319\u001b[0m \u001b[32m━━━━━━━━━━━━━━━━━━━━\u001b[0m\u001b[37m\u001b[0m \u001b[1m1s\u001b[0m 3ms/step - accuracy: 0.7765 - loss: 0.4557 - val_accuracy: 0.8073 - val_loss: 0.4242\n",
            "Epoch 92/200\n",
            "\u001b[1m319/319\u001b[0m \u001b[32m━━━━━━━━━━━━━━━━━━━━\u001b[0m\u001b[37m\u001b[0m \u001b[1m1s\u001b[0m 2ms/step - accuracy: 0.7747 - loss: 0.4497 - val_accuracy: 0.8108 - val_loss: 0.4232\n",
            "Epoch 93/200\n",
            "\u001b[1m319/319\u001b[0m \u001b[32m━━━━━━━━━━━━━━━━━━━━\u001b[0m\u001b[37m\u001b[0m \u001b[1m1s\u001b[0m 2ms/step - accuracy: 0.7827 - loss: 0.4482 - val_accuracy: 0.8077 - val_loss: 0.4210\n",
            "Epoch 94/200\n",
            "\u001b[1m319/319\u001b[0m \u001b[32m━━━━━━━━━━━━━━━━━━━━\u001b[0m\u001b[37m\u001b[0m \u001b[1m1s\u001b[0m 3ms/step - accuracy: 0.7787 - loss: 0.4486 - val_accuracy: 0.8057 - val_loss: 0.4254\n",
            "Epoch 95/200\n",
            "\u001b[1m319/319\u001b[0m \u001b[32m━━━━━━━━━━━━━━━━━━━━\u001b[0m\u001b[37m\u001b[0m \u001b[1m1s\u001b[0m 2ms/step - accuracy: 0.7838 - loss: 0.4456 - val_accuracy: 0.7947 - val_loss: 0.4340\n",
            "Epoch 96/200\n",
            "\u001b[1m319/319\u001b[0m \u001b[32m━━━━━━━━━━━━━━━━━━━━\u001b[0m\u001b[37m\u001b[0m \u001b[1m1s\u001b[0m 3ms/step - accuracy: 0.7857 - loss: 0.4472 - val_accuracy: 0.8077 - val_loss: 0.4296\n",
            "Epoch 97/200\n",
            "\u001b[1m319/319\u001b[0m \u001b[32m━━━━━━━━━━━━━━━━━━━━\u001b[0m\u001b[37m\u001b[0m \u001b[1m1s\u001b[0m 3ms/step - accuracy: 0.7787 - loss: 0.4536 - val_accuracy: 0.7967 - val_loss: 0.4369\n",
            "Epoch 98/200\n",
            "\u001b[1m319/319\u001b[0m \u001b[32m━━━━━━━━━━━━━━━━━━━━\u001b[0m\u001b[37m\u001b[0m \u001b[1m1s\u001b[0m 2ms/step - accuracy: 0.7946 - loss: 0.4355 - val_accuracy: 0.7967 - val_loss: 0.4350\n",
            "Epoch 99/200\n",
            "\u001b[1m319/319\u001b[0m \u001b[32m━━━━━━━━━━━━━━━━━━━━\u001b[0m\u001b[37m\u001b[0m \u001b[1m1s\u001b[0m 2ms/step - accuracy: 0.7810 - loss: 0.4550 - val_accuracy: 0.7991 - val_loss: 0.4262\n",
            "Epoch 100/200\n",
            "\u001b[1m319/319\u001b[0m \u001b[32m━━━━━━━━━━━━━━━━━━━━\u001b[0m\u001b[37m\u001b[0m \u001b[1m1s\u001b[0m 2ms/step - accuracy: 0.7838 - loss: 0.4480 - val_accuracy: 0.8120 - val_loss: 0.4208\n",
            "Epoch 101/200\n",
            "\u001b[1m319/319\u001b[0m \u001b[32m━━━━━━━━━━━━━━━━━━━━\u001b[0m\u001b[37m\u001b[0m \u001b[1m1s\u001b[0m 3ms/step - accuracy: 0.7852 - loss: 0.4404 - val_accuracy: 0.8038 - val_loss: 0.4287\n",
            "Epoch 102/200\n",
            "\u001b[1m319/319\u001b[0m \u001b[32m━━━━━━━━━━━━━━━━━━━━\u001b[0m\u001b[37m\u001b[0m \u001b[1m2s\u001b[0m 3ms/step - accuracy: 0.7775 - loss: 0.4489 - val_accuracy: 0.8034 - val_loss: 0.4224\n",
            "Epoch 103/200\n",
            "\u001b[1m319/319\u001b[0m \u001b[32m━━━━━━━━━━━━━━━━━━━━\u001b[0m\u001b[37m\u001b[0m \u001b[1m2s\u001b[0m 4ms/step - accuracy: 0.7866 - loss: 0.4460 - val_accuracy: 0.8124 - val_loss: 0.4189\n",
            "Epoch 104/200\n",
            "\u001b[1m319/319\u001b[0m \u001b[32m━━━━━━━━━━━━━━━━━━━━\u001b[0m\u001b[37m\u001b[0m \u001b[1m2s\u001b[0m 3ms/step - accuracy: 0.7870 - loss: 0.4451 - val_accuracy: 0.7975 - val_loss: 0.4285\n",
            "Epoch 105/200\n",
            "\u001b[1m319/319\u001b[0m \u001b[32m━━━━━━━━━━━━━━━━━━━━\u001b[0m\u001b[37m\u001b[0m \u001b[1m1s\u001b[0m 3ms/step - accuracy: 0.7811 - loss: 0.4487 - val_accuracy: 0.8026 - val_loss: 0.4220\n",
            "Epoch 106/200\n",
            "\u001b[1m319/319\u001b[0m \u001b[32m━━━━━━━━━━━━━━━━━━━━\u001b[0m\u001b[37m\u001b[0m \u001b[1m1s\u001b[0m 3ms/step - accuracy: 0.7812 - loss: 0.4498 - val_accuracy: 0.8116 - val_loss: 0.4202\n",
            "Epoch 107/200\n",
            "\u001b[1m319/319\u001b[0m \u001b[32m━━━━━━━━━━━━━━━━━━━━\u001b[0m\u001b[37m\u001b[0m \u001b[1m1s\u001b[0m 2ms/step - accuracy: 0.7816 - loss: 0.4498 - val_accuracy: 0.7998 - val_loss: 0.4246\n",
            "Epoch 108/200\n",
            "\u001b[1m319/319\u001b[0m \u001b[32m━━━━━━━━━━━━━━━━━━━━\u001b[0m\u001b[37m\u001b[0m \u001b[1m1s\u001b[0m 2ms/step - accuracy: 0.7874 - loss: 0.4452 - val_accuracy: 0.8089 - val_loss: 0.4192\n",
            "Epoch 109/200\n",
            "\u001b[1m319/319\u001b[0m \u001b[32m━━━━━━━━━━━━━━━━━━━━\u001b[0m\u001b[37m\u001b[0m \u001b[1m1s\u001b[0m 2ms/step - accuracy: 0.7919 - loss: 0.4375 - val_accuracy: 0.8049 - val_loss: 0.4291\n",
            "Epoch 110/200\n",
            "\u001b[1m319/319\u001b[0m \u001b[32m━━━━━━━━━━━━━━━━━━━━\u001b[0m\u001b[37m\u001b[0m \u001b[1m2s\u001b[0m 5ms/step - accuracy: 0.7829 - loss: 0.4483 - val_accuracy: 0.8116 - val_loss: 0.4204\n",
            "Epoch 111/200\n",
            "\u001b[1m319/319\u001b[0m \u001b[32m━━━━━━━━━━━━━━━━━━━━\u001b[0m\u001b[37m\u001b[0m \u001b[1m3s\u001b[0m 8ms/step - accuracy: 0.7847 - loss: 0.4496 - val_accuracy: 0.8006 - val_loss: 0.4193\n",
            "Epoch 112/200\n",
            "\u001b[1m319/319\u001b[0m \u001b[32m━━━━━━━━━━━━━━━━━━━━\u001b[0m\u001b[37m\u001b[0m \u001b[1m3s\u001b[0m 3ms/step - accuracy: 0.7766 - loss: 0.4548 - val_accuracy: 0.8061 - val_loss: 0.4180\n",
            "Epoch 113/200\n",
            "\u001b[1m319/319\u001b[0m \u001b[32m━━━━━━━━━━━━━━━━━━━━\u001b[0m\u001b[37m\u001b[0m \u001b[1m1s\u001b[0m 2ms/step - accuracy: 0.7969 - loss: 0.4333 - val_accuracy: 0.7971 - val_loss: 0.4227\n",
            "Epoch 114/200\n",
            "\u001b[1m319/319\u001b[0m \u001b[32m━━━━━━━━━━━━━━━━━━━━\u001b[0m\u001b[37m\u001b[0m \u001b[1m1s\u001b[0m 2ms/step - accuracy: 0.7962 - loss: 0.4386 - val_accuracy: 0.8006 - val_loss: 0.4282\n",
            "Epoch 115/200\n",
            "\u001b[1m319/319\u001b[0m \u001b[32m━━━━━━━━━━━━━━━━━━━━\u001b[0m\u001b[37m\u001b[0m \u001b[1m1s\u001b[0m 3ms/step - accuracy: 0.7908 - loss: 0.4409 - val_accuracy: 0.8089 - val_loss: 0.4197\n",
            "Epoch 116/200\n",
            "\u001b[1m319/319\u001b[0m \u001b[32m━━━━━━━━━━━━━━━━━━━━\u001b[0m\u001b[37m\u001b[0m \u001b[1m1s\u001b[0m 3ms/step - accuracy: 0.7854 - loss: 0.4489 - val_accuracy: 0.8140 - val_loss: 0.4103\n",
            "Epoch 117/200\n",
            "\u001b[1m319/319\u001b[0m \u001b[32m━━━━━━━━━━━━━━━━━━━━\u001b[0m\u001b[37m\u001b[0m \u001b[1m1s\u001b[0m 2ms/step - accuracy: 0.7808 - loss: 0.4490 - val_accuracy: 0.8014 - val_loss: 0.4193\n",
            "Epoch 118/200\n",
            "\u001b[1m319/319\u001b[0m \u001b[32m━━━━━━━━━━━━━━━━━━━━\u001b[0m\u001b[37m\u001b[0m \u001b[1m1s\u001b[0m 3ms/step - accuracy: 0.7848 - loss: 0.4492 - val_accuracy: 0.8097 - val_loss: 0.4177\n",
            "Epoch 119/200\n",
            "\u001b[1m319/319\u001b[0m \u001b[32m━━━━━━━━━━━━━━━━━━━━\u001b[0m\u001b[37m\u001b[0m \u001b[1m1s\u001b[0m 3ms/step - accuracy: 0.7906 - loss: 0.4364 - val_accuracy: 0.8077 - val_loss: 0.4156\n",
            "Epoch 120/200\n",
            "\u001b[1m319/319\u001b[0m \u001b[32m━━━━━━━━━━━━━━━━━━━━\u001b[0m\u001b[37m\u001b[0m \u001b[1m1s\u001b[0m 3ms/step - accuracy: 0.7908 - loss: 0.4342 - val_accuracy: 0.8097 - val_loss: 0.4206\n",
            "Epoch 121/200\n",
            "\u001b[1m319/319\u001b[0m \u001b[32m━━━━━━━━━━━━━━━━━━━━\u001b[0m\u001b[37m\u001b[0m \u001b[1m2s\u001b[0m 4ms/step - accuracy: 0.7890 - loss: 0.4438 - val_accuracy: 0.8108 - val_loss: 0.4202\n",
            "Epoch 122/200\n",
            "\u001b[1m319/319\u001b[0m \u001b[32m━━━━━━━━━━━━━━━━━━━━\u001b[0m\u001b[37m\u001b[0m \u001b[1m2s\u001b[0m 3ms/step - accuracy: 0.7855 - loss: 0.4410 - val_accuracy: 0.8132 - val_loss: 0.4159\n",
            "Epoch 123/200\n",
            "\u001b[1m319/319\u001b[0m \u001b[32m━━━━━━━━━━━━━━━━━━━━\u001b[0m\u001b[37m\u001b[0m \u001b[1m1s\u001b[0m 2ms/step - accuracy: 0.7904 - loss: 0.4388 - val_accuracy: 0.8100 - val_loss: 0.4164\n",
            "Epoch 124/200\n",
            "\u001b[1m319/319\u001b[0m \u001b[32m━━━━━━━━━━━━━━━━━━━━\u001b[0m\u001b[37m\u001b[0m \u001b[1m1s\u001b[0m 3ms/step - accuracy: 0.7931 - loss: 0.4307 - val_accuracy: 0.8155 - val_loss: 0.4123\n",
            "Epoch 125/200\n",
            "\u001b[1m319/319\u001b[0m \u001b[32m━━━━━━━━━━━━━━━━━━━━\u001b[0m\u001b[37m\u001b[0m \u001b[1m1s\u001b[0m 3ms/step - accuracy: 0.7991 - loss: 0.4263 - val_accuracy: 0.8100 - val_loss: 0.4189\n",
            "Epoch 126/200\n",
            "\u001b[1m319/319\u001b[0m \u001b[32m━━━━━━━━━━━━━━━━━━━━\u001b[0m\u001b[37m\u001b[0m \u001b[1m1s\u001b[0m 2ms/step - accuracy: 0.7908 - loss: 0.4433 - val_accuracy: 0.8030 - val_loss: 0.4155\n"
          ]
        }
      ],
      "source": [
        "early_stopping = EarlyStopping(monitor='val_loss', patience=10, restore_best_weights=True)\n",
        "\n",
        "history = model.fit(X_train, y_train, batch_size=32, epochs=200, validation_split=0.2, callbacks=[early_stopping])"
      ]
    },
    {
      "cell_type": "markdown",
      "metadata": {
        "id": "JbgwG04HM8nW"
      },
      "source": [
        "# Model Evaluation"
      ]
    },
    {
      "cell_type": "code",
      "execution_count": null,
      "metadata": {
        "colab": {
          "base_uri": "https://localhost:8080/"
        },
        "id": "xyO7ZxW7A6yH",
        "outputId": "1ec84ff2-766c-44b5-e8e0-dab3d53c34a8"
      },
      "outputs": [
        {
          "data": {
            "image/png": "[encoded data removed]",
            "text/plain": [
              "<Figure size 640x480 with 1 Axes>"
            ]
          },
          "metadata": {},
          "output_type": "display_data"
        }
      ],
      "source": [
        "plt.plot(history.history['loss'])\n",
        "plt.plot(history.history['val_loss'])\n",
        "plt.show()"
      ]
    },
    {
      "cell_type": "code",
      "execution_count": null,
      "metadata": {
        "colab": {
          "base_uri": "https://localhost:8080/"
        },
        "id": "jLJ9GM-vA_Xf",
        "outputId": "a41e3ad6-27bb-44e3-9fab-4bb765bf1396"
      },
      "outputs": [
        {
          "data": {
            "image/png": "[encoded data removed]",
            "text/plain": [
              "<Figure size 640x480 with 1 Axes>"
            ]
          },
          "metadata": {},
          "output_type": "display_data"
        }
      ],
      "source": [
        "plt.plot(history.history['accuracy'])\n",
        "plt.plot(history.history['val_accuracy'])\n",
        "plt.show()"
      ]
    },
    {
      "cell_type": "code",
      "execution_count": null,
      "metadata": {
        "colab": {
          "base_uri": "https://localhost:8080/"
        },
        "id": "XcVDwz0iBBaP",
        "outputId": "160508ea-888c-4ed5-c7e1-2a8e181e222e"
      },
      "outputs": [
        {
          "name": "stdout",
          "output_type": "stream",
          "text": [
            "\u001b[1m100/100\u001b[0m \u001b[32m━━━━━━━━━━━━━━━━━━━━\u001b[0m\u001b[37m\u001b[0m \u001b[1m0s\u001b[0m 2ms/step\n"
          ]
        }
      ],
      "source": [
        "y_pred = model.predict(X_test)\n",
        "y_pred = (y_pred > 0.5).astype(int)"
      ]
    },
    {
      "cell_type": "code",
      "execution_count": null,
      "metadata": {
        "colab": {
          "base_uri": "https://localhost:8080/"
        },
        "id": "JMmvJ64DBDzn",
        "outputId": "d73c023c-c738-4d28-b49e-f28f54de5d79"
      },
      "outputs": [
        {
          "name": "stdout",
          "output_type": "stream",
          "text": [
            "              precision    recall  f1-score   support\n",
            "\n",
            "           0       0.78      0.83      0.80      1534\n",
            "           1       0.83      0.78      0.81      1652\n",
            "\n",
            "    accuracy                           0.80      3186\n",
            "   macro avg       0.80      0.80      0.80      3186\n",
            "weighted avg       0.81      0.80      0.80      3186\n",
            "\n"
          ]
        }
      ],
      "source": [
        "print(classification_report(y_test,y_pred))"
      ]
    },
    {
      "cell_type": "code",
      "execution_count": null,
      "metadata": {
        "colab": {
          "base_uri": "https://localhost:8080/"
        },
        "id": "n9lQrmXfELiw",
        "outputId": "f5396ed5-414a-4938-ba78-19d643e3b813"
      },
      "outputs": [
        {
          "name": "stdout",
          "output_type": "stream",
          "text": [
            "AUC: 0.8049217731421121\n"
          ]
        }
      ],
      "source": [
        "fpr, tpr, thresholds = roc_curve(y_test, y_pred)\n",
        "auc_score = auc(fpr, tpr)\n",
        "print(f\"AUC: {auc_score}\")"
      ]
    },
    {
      "cell_type": "markdown",
      "metadata": {
        "id": "wyePd-gz98oA"
      },
      "source": [
        "### The model predicting customer churn achieves an accuracy of 80%, with balanced precision and recall for both churners and non-churners. It has an F1-score of 0.80 for non-churners and 0.81 for churners, and an AUC of 0.80, indicating good overall performance in distinguishing between the two classes."
      ]
    },
    {
      "cell_type": "code",
      "execution_count": 26,
      "metadata": {
        "id": "hdoW4-ZJ0odz"
      },
      "outputs": [],
      "source": [
        "model.save('churn.keras')"
      ]
    },
    {
      "cell_type": "code",
      "execution_count": 1,
      "metadata": {
        "id": "TMm8Bl6k0wI5"
      },
      "outputs": [],
      "source": [
        "#from google.colab import files\n",
        "#files.download('churn.keras')\n",
        "# from keras.models import load_model\n",
        "# loaded_model = load_model('churn.keras')"
      ]
    }
  ],
  "metadata": {
    "colab": {
      "provenance": []
    },
    "kernelspec": {
      "display_name": "python",
      "language": "python",
      "name": "python3"
    },
    "language_info": {
      "codemirror_mode": {
        "name": "ipython",
        "version": 3
      },
      "file_extension": ".py",
      "mimetype": "text/x-python",
      "name": "python",
      "nbconvert_exporter": "python",
      "pygments_lexer": "ipython3",
      "version": "3.9.18"
    }
  },
  "nbformat": 4,
  "nbformat_minor": 0
}
